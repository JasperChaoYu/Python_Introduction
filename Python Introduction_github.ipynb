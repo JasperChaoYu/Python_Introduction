{
 "cells": [
  {
   "cell_type": "markdown",
   "metadata": {},
   "source": [
    "## Introduction\n",
    "\n",
    "### - Who Use Python?"
   ]
  },
  {
   "cell_type": "markdown",
   "metadata": {},
   "source": [
    "1. Google\n",
    "2. Youtube\n",
    "3. Dropbox\n",
    "4. Instagram\n",
    "5. IBM\n",
    "6. NASA\n",
    "7. Quantopian"
   ]
  },
  {
   "cell_type": "markdown",
   "metadata": {},
   "source": [
    "### - Why Python?"
   ]
  },
  {
   "cell_type": "markdown",
   "metadata": {},
   "source": [
    "1. FREE！！！\n",
    "2. Smarter\n",
    "3. Cross-platform\n",
    "    1.  Linux\n",
    "    2.  Mac\n",
    "    3.  Windows\n",
    "4. Powerful\n",
    "    1.  Computation\n",
    "    2.  Data Science (Machine Learning, AI, NLP)\n",
    "    3.  Words Processing (Text Mining)\n",
    "    4.  Network Data Processing (Website Development, Web Crawler)\n",
    "   ..."
   ]
  },
  {
   "cell_type": "markdown",
   "metadata": {},
   "source": [
    "### - Downloading Python"
   ]
  },
  {
   "cell_type": "markdown",
   "metadata": {},
   "source": [
    "- Python Website\n",
    "    \n",
    "    __ https://www.python.org __\n",
    "        "
   ]
  },
  {
   "cell_type": "markdown",
   "metadata": {},
   "source": [
    "- Python Download\n",
    "        \n",
    "    __ https://www.python.org/downloads/ __    \n",
    "    "
   ]
  },
  {
   "cell_type": "markdown",
   "metadata": {},
   "source": [
    "### - Development Environment"
   ]
  },
  {
   "cell_type": "markdown",
   "metadata": {},
   "source": [
    "- Spyder \n",
    "\n",
    "    __ https://pythonhosted.org/spyder/overview.html __\n"
   ]
  },
  {
   "cell_type": "markdown",
   "metadata": {},
   "source": [
    "- Jupyter Notebook\n",
    "\n",
    "    __ http://jupyter.org __\n",
    "    "
   ]
  },
  {
   "cell_type": "markdown",
   "metadata": {},
   "source": [
    "## Data Structure\n",
    "\n",
    "* list\n",
    "\n",
    "    https://github.com/JasperChaoYu/Python_Introduction/blob/master/Data%20Structure/Data%20Structure%20-%20List.ipynb\n",
    "    \n",
    "* tuples\n",
    "\n",
    "    https://github.com/JasperChaoYu/Python_Introduction/blob/master/Data%20Structure/Data%20Structure%20-%20Tuple.ipynb\n",
    "\n",
    "* dataframe\n",
    "\n",
    "    https://github.com/JasperChaoYu/Python_Introduction/blob/master/Data%20Structure/Data%20Structure%20-%20Dataframe.ipynb\n",
    "\n",
    "* dictionary\n",
    "\n",
    "    https://github.com/JasperChaoYu/Python_Introduction/blob/master/Data%20Structure/Data%20Structure%20-%20Dictionary.ipynb\n",
    "\n",
    "* datetime\n",
    "\n",
    "    https://github.com/JasperChaoYu/Python_Introduction/blob/master/Data%20Structure/Data%20Structure%20-%20Datetime.ipynb\n",
    "    \n",
    "* set\n",
    "\n",
    "    \n"
   ]
  },
  {
   "cell_type": "markdown",
   "metadata": {},
   "source": [
    "## Programming\n",
    "\n",
    "* Loops and Conditions\n",
    "\n",
    "    https://github.com/JasperChaoYu/Python_Introduction/blob/master/Loop%20and%20Conditions/Python%20Loops%20and%20Conditions.ipynb\n",
    "    \n",
    "* Functions\n",
    "\n",
    "    https://github.com/JasperChaoYu/Python_Introduction/blob/master/Functions/Python%20Functions.ipynb\n",
    "\n",
    "* Packages\n",
    "    \n",
    "    https://github.com/JasperChaoYu/Python_Introduction/blob/master/Packages/Python%20Packages_github.ipynb\n",
    "    "
   ]
  },
  {
   "cell_type": "markdown",
   "metadata": {
    "collapsed": true
   },
   "source": []
  },
  {
   "cell_type": "code",
   "execution_count": null,
   "metadata": {
    "collapsed": true
   },
   "outputs": [],
   "source": [
    "# http://blog.kaggle.com/2016/11/30/seventeen-ways-to-map-data-in-kaggle-kernels/\n",
    "# http://matplotlib.org/basemap/users/examples.html"
   ]
  },
  {
   "cell_type": "markdown",
   "metadata": {
    "collapsed": true
   },
   "source": [
    "__ to Python Crawler __\n",
    "\n",
    "http://localhost:8888/notebooks/Introduction/Python%20Crawler.ipynb"
   ]
  },
  {
   "cell_type": "code",
   "execution_count": null,
   "metadata": {
    "collapsed": true
   },
   "outputs": [],
   "source": []
  }
 ],
 "metadata": {
  "kernelspec": {
   "display_name": "Python 2",
   "language": "python",
   "name": "python2"
  },
  "language_info": {
   "codemirror_mode": {
    "name": "ipython",
    "version": 2
   },
   "file_extension": ".py",
   "mimetype": "text/x-python",
   "name": "python",
   "nbconvert_exporter": "python",
   "pygments_lexer": "ipython2",
   "version": "2.7.13"
  }
 },
 "nbformat": 4,
 "nbformat_minor": 2
}
