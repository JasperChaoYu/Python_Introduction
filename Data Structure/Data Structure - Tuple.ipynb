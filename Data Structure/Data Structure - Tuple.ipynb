{
 "cells": [
  {
   "cell_type": "markdown",
   "metadata": {},
   "source": [
    "# Data Structure - Tuple (元組)\n",
    "\n",
    "Tuple（元組）也是 Python 中一種基本的資料結構，與 List 相近， <br>\n",
    "最不同之處為 Tuple 內的元素不能被直接做更改。\n"
   ]
  },
  {
   "cell_type": "code",
   "execution_count": 1,
   "metadata": {
    "collapsed": true
   },
   "outputs": [],
   "source": [
    "from IPython.display import display"
   ]
  },
  {
   "cell_type": "markdown",
   "metadata": {},
   "source": [
    "## - Tuple 表示法：小括號 ( )"
   ]
  },
  {
   "cell_type": "code",
   "execution_count": 2,
   "metadata": {},
   "outputs": [
    {
     "data": {
      "text/plain": [
       "(1, 2)"
      ]
     },
     "metadata": {},
     "output_type": "display_data"
    }
   ],
   "source": [
    "a_tuple = (1,2)\n",
    "display(a_tuple)"
   ]
  },
  {
   "cell_type": "markdown",
   "metadata": {},
   "source": [
    "### _ 在 Python 中，與 C 語言相同，第一個值的編號為 0 _"
   ]
  },
  {
   "cell_type": "markdown",
   "metadata": {},
   "source": [
    "### _ Tuple 也可以包含不同的資料型態及資料結構 _"
   ]
  },
  {
   "cell_type": "code",
   "execution_count": 3,
   "metadata": {},
   "outputs": [
    {
     "data": {
      "text/plain": [
       "(1, 2.0, 'a', 'abc', (1, 2), [3, 4])"
      ]
     },
     "metadata": {},
     "output_type": "display_data"
    },
    {
     "name": "stdout",
     "output_type": "stream",
     "text": [
      "-----------------------------------------\n",
      "The 1th(No.0) element in more_tuple is \n"
     ]
    },
    {
     "data": {
      "text/plain": [
       "1"
      ]
     },
     "metadata": {},
     "output_type": "display_data"
    },
    {
     "name": "stdout",
     "output_type": "stream",
     "text": [
      "It's type is <type 'int'>.\n",
      "-----------------------------------------\n",
      "The 2th(No.1) element in more_tuple is \n"
     ]
    },
    {
     "data": {
      "text/plain": [
       "2.0"
      ]
     },
     "metadata": {},
     "output_type": "display_data"
    },
    {
     "name": "stdout",
     "output_type": "stream",
     "text": [
      "It's type is <type 'float'>.\n",
      "-----------------------------------------\n",
      "The 3th(No.2) element in more_tuple is \n"
     ]
    },
    {
     "data": {
      "text/plain": [
       "'a'"
      ]
     },
     "metadata": {},
     "output_type": "display_data"
    },
    {
     "name": "stdout",
     "output_type": "stream",
     "text": [
      "It's type is <type 'str'>.\n",
      "-----------------------------------------\n",
      "The 4th(No.3) element in more_tuple is \n"
     ]
    },
    {
     "data": {
      "text/plain": [
       "'abc'"
      ]
     },
     "metadata": {},
     "output_type": "display_data"
    },
    {
     "name": "stdout",
     "output_type": "stream",
     "text": [
      "It's type is <type 'str'>.\n",
      "-----------------------------------------\n",
      "The 5th(No.4) element in more_tuple is \n"
     ]
    },
    {
     "data": {
      "text/plain": [
       "(1, 2)"
      ]
     },
     "metadata": {},
     "output_type": "display_data"
    },
    {
     "name": "stdout",
     "output_type": "stream",
     "text": [
      "It's type is <type 'tuple'>.\n",
      "-----------------------------------------\n",
      "The 6th(No.5) element in more_tuple is \n"
     ]
    },
    {
     "data": {
      "text/plain": [
       "[3, 4]"
      ]
     },
     "metadata": {},
     "output_type": "display_data"
    },
    {
     "name": "stdout",
     "output_type": "stream",
     "text": [
      "It's type is <type 'list'>.\n"
     ]
    }
   ],
   "source": [
    "more_tuple = (1,2.0,\"a\",\"abc\",(1,2),[3,4])\n",
    "display(more_tuple)\n",
    "\n",
    "for i in range(len(more_tuple)):\n",
    "    print(\"-----------------------------------------\")\n",
    "    print(\"The \"+str(i+1)+\"th(No.\"+str(i)+\") element in more_tuple is \")\n",
    "    display(more_tuple[i])\n",
    "    print(\"It's type is \"+str(type(more_tuple[i]))+\".\")"
   ]
  },
  {
   "cell_type": "markdown",
   "metadata": {},
   "source": [
    "### _ Tuple 的元素不能直接被做更改 _"
   ]
  },
  {
   "cell_type": "code",
   "execution_count": 4,
   "metadata": {},
   "outputs": [
    {
     "ename": "TypeError",
     "evalue": "'tuple' object does not support item assignment",
     "output_type": "error",
     "traceback": [
      "\u001b[0;31m---------------------------------------------------------------------------\u001b[0m",
      "\u001b[0;31mTypeError\u001b[0m                                 Traceback (most recent call last)",
      "\u001b[0;32m<ipython-input-4-9bf99612a9a4>\u001b[0m in \u001b[0;36m<module>\u001b[0;34m()\u001b[0m\n\u001b[0;32m----> 1\u001b[0;31m \u001b[0ma_tuple\u001b[0m\u001b[0;34m[\u001b[0m\u001b[0;36m0\u001b[0m\u001b[0;34m]\u001b[0m \u001b[0;34m=\u001b[0m \u001b[0;36m1\u001b[0m\u001b[0;34m\u001b[0m\u001b[0m\n\u001b[0m",
      "\u001b[0;31mTypeError\u001b[0m: 'tuple' object does not support item assignment"
     ]
    }
   ],
   "source": [
    "a_tuple[0] = 1"
   ]
  },
  {
   "cell_type": "markdown",
   "metadata": {},
   "source": [
    "### _ Tuple 仍有用 tuple.index( ) 幫助我們在 Tuple 中查找指定元素的位置編號 _"
   ]
  },
  {
   "cell_type": "code",
   "execution_count": 5,
   "metadata": {},
   "outputs": [
    {
     "name": "stdout",
     "output_type": "stream",
     "text": [
      "more_tuple:\n"
     ]
    },
    {
     "data": {
      "text/plain": [
       "(1, 2.0, 'a', 'abc', (1, 2), [3, 4])"
      ]
     },
     "metadata": {},
     "output_type": "display_data"
    },
    {
     "name": "stdout",
     "output_type": "stream",
     "text": [
      "-----------------------------------------\n",
      "ind:\n"
     ]
    },
    {
     "data": {
      "text/plain": [
       "3"
      ]
     },
     "metadata": {},
     "output_type": "display_data"
    }
   ],
   "source": [
    "more_tuple = (1,2.0,\"a\",\"abc\",(1,2),[3,4])\n",
    "print(\"more_tuple:\")\n",
    "display(more_tuple)\n",
    "print(\"-----------------------------------------\")\n",
    "ind = more_tuple.index(\"abc\")\n",
    "print(\"ind:\")\n",
    "display(ind)"
   ]
  },
  {
   "cell_type": "markdown",
   "metadata": {},
   "source": [
    "### _ Tuple 的加法及乘法與 List 相同，加法表示在 Tuple 中加上另一個 Tuple 的所有元素，而乘法則代表將 Tuple 重複。 _"
   ]
  },
  {
   "cell_type": "code",
   "execution_count": 6,
   "metadata": {},
   "outputs": [
    {
     "data": {
      "text/plain": [
       "(1, 2, 3, 4)"
      ]
     },
     "execution_count": 6,
     "metadata": {},
     "output_type": "execute_result"
    }
   ],
   "source": [
    "(1,2) + (3,4)"
   ]
  },
  {
   "cell_type": "code",
   "execution_count": 7,
   "metadata": {},
   "outputs": [
    {
     "data": {
      "text/plain": [
       "(1, 2, 1, 2, 1, 2)"
      ]
     },
     "execution_count": 7,
     "metadata": {},
     "output_type": "execute_result"
    }
   ],
   "source": [
    "(1,2) * 3"
   ]
  },
  {
   "cell_type": "markdown",
   "metadata": {},
   "source": [
    "### _ 目前使用到 Tuple 的情況為 eigenvalue 與 eigenvector 的結合 _\n",
    "\n",
    "原因可能是因為 eigenvalue 及 eigenvector 在做計算過後，數值與元素以及雙方的對應關係就不會再被更動，因此用 Tuple 儲存比較安全。 <br>\n",
    "但為求使用以及排序的方便，Tuple 是使用在每一個 eigenvalue 以及其對應的 eigenvector 結合時使用， <br>\n",
    "再結合不同的 eigenvalue 及 eigenvector 數對時，則還是用 List。 <br>"
   ]
  },
  {
   "cell_type": "markdown",
   "metadata": {},
   "source": [
    "### * _ 註：因為在 List 中儲存的是 Tuple在排序時，要確定是根據 Tuple 的第幾個元素做排序。_"
   ]
  },
  {
   "cell_type": "code",
   "execution_count": 8,
   "metadata": {},
   "outputs": [
    {
     "data": {
      "text/plain": [
       "[(1.0, 2.0), (6.0, 8.0), (4.0, 5.0), (2.0, 8.0)]"
      ]
     },
     "execution_count": 8,
     "metadata": {},
     "output_type": "execute_result"
    }
   ],
   "source": [
    "more_tuple = [(1.,2.),(6.,8.),(4.,5.),(2.,8.)]\n",
    "more_tuple"
   ]
  },
  {
   "cell_type": "code",
   "execution_count": 9,
   "metadata": {},
   "outputs": [
    {
     "data": {
      "text/plain": [
       "[(6.0, 8.0), (2.0, 8.0), (4.0, 5.0), (1.0, 2.0)]"
      ]
     },
     "execution_count": 9,
     "metadata": {},
     "output_type": "execute_result"
    }
   ],
   "source": [
    "more_tuple.sort(key= lambda x: x[1], reverse=True)\n",
    "more_tuple"
   ]
  },
  {
   "cell_type": "code",
   "execution_count": 10,
   "metadata": {},
   "outputs": [
    {
     "data": {
      "text/plain": [
       "[(6.0, 8.0), (4.0, 5.0), (2.0, 8.0), (1.0, 2.0)]"
      ]
     },
     "metadata": {},
     "output_type": "display_data"
    }
   ],
   "source": [
    "more_tuple.sort(key= lambda x: x[0], reverse=True)\n",
    "display(more_tuple)"
   ]
  },
  {
   "cell_type": "markdown",
   "metadata": {
    "collapsed": true
   },
   "source": [
    "### Eigenvalue 及 Eigenvector"
   ]
  },
  {
   "cell_type": "code",
   "execution_count": 11,
   "metadata": {
    "collapsed": true
   },
   "outputs": [],
   "source": [
    "import numpy as np"
   ]
  },
  {
   "cell_type": "code",
   "execution_count": 12,
   "metadata": {},
   "outputs": [],
   "source": [
    "corr_mat = [[1,0.5,0.3],[0.5,1,0.14],[0.3,0.14,1]]"
   ]
  },
  {
   "cell_type": "markdown",
   "metadata": {},
   "source": [
    "#### 找出 eigenvalue 及 eigenvector 時會使用到 numpy 這個模組中與線性代數相關的模組 linalg"
   ]
  },
  {
   "cell_type": "code",
   "execution_count": 13,
   "metadata": {},
   "outputs": [
    {
     "name": "stdout",
     "output_type": "stream",
     "text": [
      "Eigenvalue:\n"
     ]
    },
    {
     "data": {
      "text/plain": [
       "array([ 1.65122488,  0.4705994 ,  0.87817571])"
      ]
     },
     "metadata": {},
     "output_type": "display_data"
    },
    {
     "name": "stdout",
     "output_type": "stream",
     "text": [
      "-----------------------------------------\n",
      "Eigenvectors:\n"
     ]
    },
    {
     "data": {
      "text/plain": [
       "array([[ 0.66572724,  0.73600508, -0.12289739],\n",
       "       [ 0.60502679, -0.62880922, -0.48840715],\n",
       "       [ 0.43674916, -0.25078973,  0.86391821]])"
      ]
     },
     "metadata": {},
     "output_type": "display_data"
    }
   ],
   "source": [
    "eig_vals, eig_vecs = np.linalg.eig(corr_mat)\n",
    "print(\"Eigenvalue:\")\n",
    "display(eig_vals)\n",
    "print(\"-----------------------------------------\")\n",
    "print(\"Eigenvectors:\")\n",
    "display(eig_vecs)"
   ]
  },
  {
   "cell_type": "markdown",
   "metadata": {},
   "source": [
    "#### 將兩倆對應的 eigenvalue 及 eigenvector 存為 Tuple。"
   ]
  },
  {
   "cell_type": "code",
   "execution_count": 14,
   "metadata": {},
   "outputs": [
    {
     "data": {
      "text/plain": [
       "[(1.651224884344118, array([ 0.66572724,  0.60502679,  0.43674916])),\n",
       " (0.47059940187121652, array([ 0.73600508, -0.62880922, -0.25078973])),\n",
       " (0.87817571378466608, array([-0.12289739, -0.48840715,  0.86391821]))]"
      ]
     },
     "metadata": {},
     "output_type": "display_data"
    }
   ],
   "source": [
    "eig_pairs = [(np.abs(eig_vals[i]), eig_vecs[:,i]) for i in range(len(eig_vals))]\n",
    "display(eig_pairs)"
   ]
  },
  {
   "cell_type": "markdown",
   "metadata": {},
   "source": [
    "#### 根據 eigenvalue 大小排序"
   ]
  },
  {
   "cell_type": "code",
   "execution_count": 15,
   "metadata": {},
   "outputs": [
    {
     "data": {
      "text/plain": [
       "[(1.651224884344118, array([ 0.66572724,  0.60502679,  0.43674916])),\n",
       " (0.87817571378466608, array([-0.12289739, -0.48840715,  0.86391821])),\n",
       " (0.47059940187121652, array([ 0.73600508, -0.62880922, -0.25078973]))]"
      ]
     },
     "metadata": {},
     "output_type": "display_data"
    }
   ],
   "source": [
    "eig_pairs.sort(key= lambda x: x[0], reverse=True)\n",
    "display(eig_pairs)"
   ]
  },
  {
   "cell_type": "code",
   "execution_count": null,
   "metadata": {
    "collapsed": true
   },
   "outputs": [],
   "source": []
  }
 ],
 "metadata": {
  "kernelspec": {
   "display_name": "Python 2",
   "language": "python",
   "name": "python2"
  },
  "language_info": {
   "codemirror_mode": {
    "name": "ipython",
    "version": 2
   },
   "file_extension": ".py",
   "mimetype": "text/x-python",
   "name": "python",
   "nbconvert_exporter": "python",
   "pygments_lexer": "ipython2",
   "version": "2.7.13"
  }
 },
 "nbformat": 4,
 "nbformat_minor": 1
}
