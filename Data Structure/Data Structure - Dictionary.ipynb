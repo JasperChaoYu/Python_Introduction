{
 "cells": [
  {
   "cell_type": "markdown",
   "metadata": {
    "collapsed": true
   },
   "source": [
    "# Data Structure - Dictionary\n",
    "\n",
    "dictionary 就是字典，可以存取一對多的關係。 是一個存取三維數據的另一種選擇。"
   ]
  },
  {
   "cell_type": "code",
   "execution_count": 1,
   "metadata": {
    "collapsed": true
   },
   "outputs": [],
   "source": [
    "from IPython.display import display"
   ]
  },
  {
   "cell_type": "markdown",
   "metadata": {},
   "source": [
    "## - Dictionary 表示法：大括號 { }"
   ]
  },
  {
   "cell_type": "code",
   "execution_count": 2,
   "metadata": {},
   "outputs": [
    {
     "data": {
      "text/plain": [
       "{'A': ['Apple', 'Air', 'Airplane'],\n",
       " 'B': ['Ball', 'Bee', 'Book'],\n",
       " 'C': ['Cat', 'Cow']}"
      ]
     },
     "metadata": {},
     "output_type": "display_data"
    }
   ],
   "source": [
    "a_dict = {\"A\":[\"Apple\",\"Air\",\"Airplane\"], \"B\":[\"Ball\",\"Bee\",\"Book\"], \"C\":[\"Cat\",\"Cow\"]}\n",
    "display(a_dict)"
   ]
  },
  {
   "cell_type": "markdown",
   "metadata": {},
   "source": [
    "### _ Dictionary 是一個由 { key: value } 配對的複合資料型態 _"
   ]
  },
  {
   "cell_type": "code",
   "execution_count": 3,
   "metadata": {},
   "outputs": [
    {
     "data": {
      "text/plain": [
       "['A', 'C', 'B']"
      ]
     },
     "execution_count": 3,
     "metadata": {},
     "output_type": "execute_result"
    }
   ],
   "source": [
    "a_dict.keys()"
   ]
  },
  {
   "cell_type": "code",
   "execution_count": 4,
   "metadata": {},
   "outputs": [
    {
     "data": {
      "text/plain": [
       "[['Apple', 'Air', 'Airplane'], ['Cat', 'Cow'], ['Ball', 'Bee', 'Book']]"
      ]
     },
     "execution_count": 4,
     "metadata": {},
     "output_type": "execute_result"
    }
   ],
   "source": [
    "a_dict.values()"
   ]
  },
  {
   "cell_type": "markdown",
   "metadata": {},
   "source": [
    "### _ 先指定 key 在選取所對應 value 中的元素 _"
   ]
  },
  {
   "cell_type": "code",
   "execution_count": 5,
   "metadata": {},
   "outputs": [
    {
     "data": {
      "text/plain": [
       "['Apple', 'Air', 'Airplane']"
      ]
     },
     "execution_count": 5,
     "metadata": {},
     "output_type": "execute_result"
    }
   ],
   "source": [
    "a_dict[\"A\"]"
   ]
  },
  {
   "cell_type": "code",
   "execution_count": 6,
   "metadata": {},
   "outputs": [
    {
     "data": {
      "text/plain": [
       "'Apple'"
      ]
     },
     "execution_count": 6,
     "metadata": {},
     "output_type": "execute_result"
    }
   ],
   "source": [
    "a_dict[\"A\"][0]"
   ]
  },
  {
   "cell_type": "markdown",
   "metadata": {},
   "source": [
    "### _ Dictionary 中的 value 也可放入 DataFrame _"
   ]
  },
  {
   "cell_type": "code",
   "execution_count": 7,
   "metadata": {
    "collapsed": true
   },
   "outputs": [],
   "source": [
    "from pandas import DataFrame"
   ]
  },
  {
   "cell_type": "code",
   "execution_count": 8,
   "metadata": {
    "collapsed": true
   },
   "outputs": [],
   "source": [
    "Date = [\"2012/01/02\",\"2012/01/03\",\"2012/01/04\",\"2012/01/05\"]\n",
    "Price_a = [20.15,20.5,19.3,20.2]\n",
    "Volume_a = [1000,3000,500,1500]\n",
    "Price_b = [30.25,30.5,31.3,32.2]\n",
    "Volume_b = [100,20,500,1000]\n",
    "Price_c = [50.15,45.5,48.3,50.2]\n",
    "Volume_c = [10,300,50,1500]"
   ]
  },
  {
   "cell_type": "code",
   "execution_count": 9,
   "metadata": {
    "collapsed": true
   },
   "outputs": [],
   "source": [
    "total_data = {\"a\": DataFrame([Price_a, Volume_a], columns=Date, index=[\"Price\", \"Volume\"]), \\\n",
    "              \"b\": DataFrame([Price_b, Volume_b], columns=Date, index=[\"Price\", \"Volume\"]), \\\n",
    "              \"c\": DataFrame([Price_c, Volume_c], columns=Date, index=[\"Price\", \"Volume\"])}"
   ]
  },
  {
   "cell_type": "code",
   "execution_count": 10,
   "metadata": {},
   "outputs": [
    {
     "data": {
      "text/plain": [
       "{'a':         2012/01/02  2012/01/03  2012/01/04  2012/01/05\n",
       " Price        20.15        20.5        19.3        20.2\n",
       " Volume     1000.00      3000.0       500.0      1500.0,\n",
       " 'b':         2012/01/02  2012/01/03  2012/01/04  2012/01/05\n",
       " Price        30.25        30.5        31.3        32.2\n",
       " Volume      100.00        20.0       500.0      1000.0,\n",
       " 'c':         2012/01/02  2012/01/03  2012/01/04  2012/01/05\n",
       " Price        50.15        45.5        48.3        50.2\n",
       " Volume       10.00       300.0        50.0      1500.0}"
      ]
     },
     "metadata": {},
     "output_type": "display_data"
    }
   ],
   "source": [
    "display(total_data)"
   ]
  },
  {
   "cell_type": "code",
   "execution_count": 11,
   "metadata": {},
   "outputs": [
    {
     "data": {
      "text/html": [
       "<div>\n",
       "<table border=\"1\" class=\"dataframe\">\n",
       "  <thead>\n",
       "    <tr style=\"text-align: right;\">\n",
       "      <th></th>\n",
       "      <th>2012/01/02</th>\n",
       "      <th>2012/01/03</th>\n",
       "      <th>2012/01/04</th>\n",
       "      <th>2012/01/05</th>\n",
       "    </tr>\n",
       "  </thead>\n",
       "  <tbody>\n",
       "    <tr>\n",
       "      <th>Price</th>\n",
       "      <td>20.15</td>\n",
       "      <td>20.5</td>\n",
       "      <td>19.3</td>\n",
       "      <td>20.2</td>\n",
       "    </tr>\n",
       "    <tr>\n",
       "      <th>Volume</th>\n",
       "      <td>1000.00</td>\n",
       "      <td>3000.0</td>\n",
       "      <td>500.0</td>\n",
       "      <td>1500.0</td>\n",
       "    </tr>\n",
       "  </tbody>\n",
       "</table>\n",
       "</div>"
      ],
      "text/plain": [
       "        2012/01/02  2012/01/03  2012/01/04  2012/01/05\n",
       "Price        20.15        20.5        19.3        20.2\n",
       "Volume     1000.00      3000.0       500.0      1500.0"
      ]
     },
     "metadata": {},
     "output_type": "display_data"
    }
   ],
   "source": [
    "display(total_data['a'])"
   ]
  },
  {
   "cell_type": "markdown",
   "metadata": {},
   "source": [
    "### _ 甚至是在 Dictionary 中還有另一個 Dictionary _"
   ]
  },
  {
   "cell_type": "code",
   "execution_count": 12,
   "metadata": {},
   "outputs": [
    {
     "data": {
      "text/plain": [
       "{'English': {'A': ['Apple', 'Air', 'Airplane'],\n",
       "  'B': ['Ball', 'Bee', 'Book'],\n",
       "  'C': ['Cat', 'Cow']},\n",
       " 'Number': [1, 2, 3]}"
      ]
     },
     "metadata": {},
     "output_type": "display_data"
    }
   ],
   "source": [
    "double_dict = {\"English\":{\"A\":[\"Apple\",\"Air\",\"Airplane\"], \\\n",
    "                          \"B\":[\"Ball\",\"Bee\",\"Book\"], \\\n",
    "                          \"C\":[\"Cat\",\"Cow\"]}, \\\n",
    "               \"Number\":[1,2,3]}\n",
    "display(double_dict)"
   ]
  },
  {
   "cell_type": "markdown",
   "metadata": {
    "collapsed": true
   },
   "source": [
    "### _ Dictionary 的一些相關用法 _"
   ]
  },
  {
   "cell_type": "markdown",
   "metadata": {},
   "source": [
    "#### Dictionary.clear( ) 為清空所有 Dictionary 中的配段關係。"
   ]
  },
  {
   "cell_type": "code",
   "execution_count": 13,
   "metadata": {},
   "outputs": [
    {
     "name": "stdout",
     "output_type": "stream",
     "text": [
      "Before\n"
     ]
    },
    {
     "data": {
      "text/plain": [
       "{'A': ['Apple', 'Air', 'Airplane'],\n",
       " 'B': ['Ball', 'Bee', 'Book'],\n",
       " 'C': ['Cat', 'Cow']}"
      ]
     },
     "metadata": {},
     "output_type": "display_data"
    },
    {
     "name": "stdout",
     "output_type": "stream",
     "text": [
      "-----------------------------------------\n",
      "After\n"
     ]
    },
    {
     "data": {
      "text/plain": [
       "{}"
      ]
     },
     "metadata": {},
     "output_type": "display_data"
    }
   ],
   "source": [
    "a_dict = {\"A\":[\"Apple\",\"Air\",\"Airplane\"], \"B\":[\"Ball\",\"Bee\",\"Book\"], \"C\":[\"Cat\",\"Cow\"]}\n",
    "print(\"Before\")\n",
    "display(a_dict)\n",
    "print(\"-----------------------------------------\")\n",
    "a_dict.clear()\n",
    "print(\"After\")\n",
    "display(a_dict)"
   ]
  },
  {
   "cell_type": "markdown",
   "metadata": {},
   "source": [
    "### * _ 註：Python 為物件導向，因此在做 assignment 的時候要特別注意！_"
   ]
  },
  {
   "cell_type": "code",
   "execution_count": 14,
   "metadata": {},
   "outputs": [
    {
     "name": "stdout",
     "output_type": "stream",
     "text": [
      "a_dict\n"
     ]
    },
    {
     "data": {
      "text/plain": [
       "{'A': ['Apple', 'Air', 'Airplane'],\n",
       " 'B': ['Ball', 'Bee', 'Book'],\n",
       " 'C': ['Cat', 'Cow']}"
      ]
     },
     "metadata": {},
     "output_type": "display_data"
    },
    {
     "name": "stdout",
     "output_type": "stream",
     "text": [
      "-----------------------------------------\n",
      "another_dict\n"
     ]
    },
    {
     "data": {
      "text/plain": [
       "{'A': ['Apple', 'Air', 'Airplane'],\n",
       " 'B': ['Ball', 'Bee', 'Book'],\n",
       " 'C': ['Cat', 'Cow']}"
      ]
     },
     "metadata": {},
     "output_type": "display_data"
    }
   ],
   "source": [
    "a_dict = {\"A\":[\"Apple\",\"Air\",\"Airplane\"], \"B\":[\"Ball\",\"Bee\",\"Book\"], \"C\":[\"Cat\",\"Cow\"]}\n",
    "print(\"a_dict\")\n",
    "display(a_dict)\n",
    "print(\"-----------------------------------------\")\n",
    "another_dict = a_dict\n",
    "print(\"another_dict\")\n",
    "display(another_dict)"
   ]
  },
  {
   "cell_type": "code",
   "execution_count": 15,
   "metadata": {},
   "outputs": [
    {
     "name": "stdout",
     "output_type": "stream",
     "text": [
      "a_dict\n"
     ]
    },
    {
     "data": {
      "text/plain": [
       "{}"
      ]
     },
     "metadata": {},
     "output_type": "display_data"
    },
    {
     "name": "stdout",
     "output_type": "stream",
     "text": [
      "-----------------------------------------\n",
      "another_dict\n"
     ]
    },
    {
     "data": {
      "text/plain": [
       "{}"
      ]
     },
     "metadata": {},
     "output_type": "display_data"
    }
   ],
   "source": [
    "another_dict.clear()\n",
    "print(\"a_dict\")\n",
    "display(a_dict)\n",
    "print(\"-----------------------------------------\")\n",
    "print(\"another_dict\")\n",
    "display(another_dict)"
   ]
  },
  {
   "cell_type": "markdown",
   "metadata": {},
   "source": [
    "### _ 可以用 copy 的方法較保險 ...... _"
   ]
  },
  {
   "cell_type": "code",
   "execution_count": 16,
   "metadata": {},
   "outputs": [
    {
     "name": "stdout",
     "output_type": "stream",
     "text": [
      "a_dict\n"
     ]
    },
    {
     "data": {
      "text/plain": [
       "{'A': ['Apple', 'Air', 'Airplane'],\n",
       " 'B': ['Ball', 'Bee', 'Book'],\n",
       " 'C': ['Cat', 'Cow']}"
      ]
     },
     "metadata": {},
     "output_type": "display_data"
    },
    {
     "name": "stdout",
     "output_type": "stream",
     "text": [
      "-----------------------------------------\n",
      "another_dict\n"
     ]
    },
    {
     "data": {
      "text/plain": [
       "{'A': ['Apple', 'Air', 'Airplane'],\n",
       " 'B': ['Ball', 'Bee', 'Book'],\n",
       " 'C': ['Cat', 'Cow']}"
      ]
     },
     "metadata": {},
     "output_type": "display_data"
    }
   ],
   "source": [
    "a_dict = {\"A\":[\"Apple\",\"Air\",\"Airplane\"], \"B\":[\"Ball\",\"Bee\",\"Book\"], \"C\":[\"Cat\",\"Cow\"]}\n",
    "print(\"a_dict\")\n",
    "display(a_dict)\n",
    "print(\"-----------------------------------------\")\n",
    "another_dict = a_dict.copy()\n",
    "print(\"another_dict\")\n",
    "display(another_dict)"
   ]
  },
  {
   "cell_type": "code",
   "execution_count": 17,
   "metadata": {},
   "outputs": [
    {
     "name": "stdout",
     "output_type": "stream",
     "text": [
      "a_dict\n"
     ]
    },
    {
     "data": {
      "text/plain": [
       "{'A': ['Apple', 'Air', 'Airplane'],\n",
       " 'B': ['Ball', 'Bee', 'Book'],\n",
       " 'C': ['Cat', 'Cow']}"
      ]
     },
     "metadata": {},
     "output_type": "display_data"
    },
    {
     "name": "stdout",
     "output_type": "stream",
     "text": [
      "-----------------------------------------\n",
      "another_dict\n"
     ]
    },
    {
     "data": {
      "text/plain": [
       "{}"
      ]
     },
     "metadata": {},
     "output_type": "display_data"
    }
   ],
   "source": [
    "another_dict.clear()\n",
    "print(\"a_dict\")\n",
    "display(a_dict)\n",
    "print(\"-----------------------------------------\")\n",
    "print(\"another_dict\")\n",
    "display(another_dict)"
   ]
  },
  {
   "cell_type": "markdown",
   "metadata": {},
   "source": [
    "### _ 不確定預計的 key 是否存於 Dictionary 中，可用 Dictionary.get( key )，若無此 key 則會回傳 None。 _"
   ]
  },
  {
   "cell_type": "code",
   "execution_count": 18,
   "metadata": {},
   "outputs": [
    {
     "data": {
      "text/plain": [
       "['Apple', 'Air', 'Airplane']"
      ]
     },
     "metadata": {},
     "output_type": "display_data"
    }
   ],
   "source": [
    "display(a_dict.get('A'))"
   ]
  },
  {
   "cell_type": "code",
   "execution_count": 19,
   "metadata": {},
   "outputs": [
    {
     "data": {
      "text/plain": [
       "None"
      ]
     },
     "metadata": {},
     "output_type": "display_data"
    }
   ],
   "source": [
    "display(a_dict.get('X'))"
   ]
  },
  {
   "cell_type": "markdown",
   "metadata": {},
   "source": [
    "### key 的存在與否也可以用 Dictionary.has_key( key ) 檢查，會回傳 True 或 False。 "
   ]
  },
  {
   "cell_type": "code",
   "execution_count": 20,
   "metadata": {},
   "outputs": [
    {
     "data": {
      "text/plain": [
       "True"
      ]
     },
     "execution_count": 20,
     "metadata": {},
     "output_type": "execute_result"
    }
   ],
   "source": [
    "a_dict.has_key(\"A\")"
   ]
  },
  {
   "cell_type": "code",
   "execution_count": 21,
   "metadata": {},
   "outputs": [
    {
     "data": {
      "text/plain": [
       "False"
      ]
     },
     "execution_count": 21,
     "metadata": {},
     "output_type": "execute_result"
    }
   ],
   "source": [
    "a_dict.has_key(\"Z\")"
   ]
  },
  {
   "cell_type": "markdown",
   "metadata": {},
   "source": [
    "### _ Dictionary.items( ) 可以將 Dictionary 中對應關係儲存為 Tuple。 _"
   ]
  },
  {
   "cell_type": "code",
   "execution_count": 22,
   "metadata": {},
   "outputs": [
    {
     "data": {
      "text/plain": [
       "[('A', ['Apple', 'Air', 'Airplane']),\n",
       " ('C', ['Cat', 'Cow']),\n",
       " ('B', ['Ball', 'Bee', 'Book'])]"
      ]
     },
     "execution_count": 22,
     "metadata": {},
     "output_type": "execute_result"
    }
   ],
   "source": [
    "a_dict.items()"
   ]
  },
  {
   "cell_type": "markdown",
   "metadata": {},
   "source": [
    "### _ 要在 Dictionary 中增加新的 key，則可以用 Dictionary.update( ) _"
   ]
  },
  {
   "cell_type": "code",
   "execution_count": 23,
   "metadata": {},
   "outputs": [
    {
     "data": {
      "text/plain": [
       "{'A': ['Apple', 'Air', 'Airplane'],\n",
       " 'B': ['Ball', 'Bee', 'Book'],\n",
       " 'C': ['Cat', 'Cow'],\n",
       " 'D': ['Dog', 'Door']}"
      ]
     },
     "metadata": {},
     "output_type": "display_data"
    }
   ],
   "source": [
    "new_dict = {\"D\": [\"Dog\", \"Door\"]}\n",
    "a_dict.update(new_dict)\n",
    "display(a_dict)"
   ]
  },
  {
   "cell_type": "code",
   "execution_count": null,
   "metadata": {
    "collapsed": true
   },
   "outputs": [],
   "source": []
  }
 ],
 "metadata": {
  "kernelspec": {
   "display_name": "Python 2",
   "language": "python",
   "name": "python2"
  },
  "language_info": {
   "codemirror_mode": {
    "name": "ipython",
    "version": 2
   },
   "file_extension": ".py",
   "mimetype": "text/x-python",
   "name": "python",
   "nbconvert_exporter": "python",
   "pygments_lexer": "ipython2",
   "version": "2.7.13"
  }
 },
 "nbformat": 4,
 "nbformat_minor": 1
}
