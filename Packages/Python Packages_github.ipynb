{
 "cells": [
  {
   "cell_type": "markdown",
   "metadata": {},
   "source": [
    "# Python Packages"
   ]
  },
  {
   "cell_type": "markdown",
   "metadata": {},
   "source": [
    "### Python 中有不少已經被寫好的模組可以引入，幫助我們能夠更有效的撰寫及執行我們的程式。\n",
    "#### 引入模組的方法為 import "
   ]
  },
  {
   "cell_type": "code",
   "execution_count": 1,
   "metadata": {
    "collapsed": true
   },
   "outputs": [],
   "source": [
    "import numpy"
   ]
  },
  {
   "cell_type": "markdown",
   "metadata": {},
   "source": [
    "#### 如果模組名稱太長，也可以自行取縮寫。"
   ]
  },
  {
   "cell_type": "code",
   "execution_count": 2,
   "metadata": {
    "collapsed": true
   },
   "outputs": [],
   "source": [
    "import numpy as np"
   ]
  },
  {
   "cell_type": "markdown",
   "metadata": {},
   "source": [
    "#### 要使用模組中的 function 時則寫成："
   ]
  },
  {
   "cell_type": "code",
   "execution_count": 5,
   "metadata": {},
   "outputs": [
    {
     "data": {
      "text/plain": [
       "array([1])"
      ]
     },
     "execution_count": 5,
     "metadata": {},
     "output_type": "execute_result"
    }
   ],
   "source": [
    "numpy.asarray([1])\n",
    "np.asarray([1])"
   ]
  },
  {
   "cell_type": "markdown",
   "metadata": {},
   "source": [
    "#### 如果只需要引入模組中其中一個 function 時，也可以寫成："
   ]
  },
  {
   "cell_type": "code",
   "execution_count": 3,
   "metadata": {
    "collapsed": true
   },
   "outputs": [],
   "source": [
    "from numpy import asarray"
   ]
  },
  {
   "cell_type": "markdown",
   "metadata": {},
   "source": [
    "## 以下為較常使用到的 Python 模組\n",
    "\n",
    "   * numpy：科學運算、陣列及矩陣運算\n",
    "    \n",
    "    http://localhost:8889/notebooks/Introduction/Packages/Packages%20-%20numpy.ipynb\n",
    "    \n",
    "   * pandas：資料處理\n",
    "    \n",
    "    http://localhost:8889/notebooks/Introduction/Packages/Packages%20-%20Pandas.ipynb    \n",
    "    \n",
    "   * scipy：科學運算\n",
    "    \n",
    "    http://localhost:8889/notebooks/Introduction/Packages/Packages%20-%20scipy.ipynb\n",
    "    \n",
    "   * matplotlib：畫圖\n",
    "   \n",
    "   http://localhost:8889/notebooks/Introduction/Packages/Packages%20-%20Matplotlib.ipynb\n",
    "   \n",
    "   * sklearn：機器學習\n",
    "   \n",
    "   http://localhost:8889/notebooks/Introduction/Packages/Packages%20-%20sklearn.ipynb\n",
    "   "
   ]
  },
  {
   "cell_type": "code",
   "execution_count": null,
   "metadata": {
    "collapsed": true
   },
   "outputs": [],
   "source": []
  },
  {
   "cell_type": "code",
   "execution_count": null,
   "metadata": {
    "collapsed": true
   },
   "outputs": [],
   "source": []
  },
  {
   "cell_type": "code",
   "execution_count": null,
   "metadata": {
    "collapsed": true
   },
   "outputs": [],
   "source": []
  },
  {
   "cell_type": "code",
   "execution_count": null,
   "metadata": {
    "collapsed": true
   },
   "outputs": [],
   "source": [
    "from string import split\n",
    "from calendar import monthrange"
   ]
  },
  {
   "cell_type": "code",
   "execution_count": null,
   "metadata": {
    "collapsed": true
   },
   "outputs": [],
   "source": [
    "data_return = (data_total_return['total return'] +1.0)** (1/(data_total_return['data_len']/252)) -1.0 \n",
    "data_performance = pd.DataFrame(np.asarray(data_return),index = data_return.index,columns=['annual return'])\n",
    "data_performance['volatility'] = price_pool.pct_change().std()* np.sqrt(252)\n",
    "data_total_return.reset_index(inplace=True)\n",
    "sharp = pd.DataFrame(index=price_pool.columns,columns=['sharp'])\n",
    "sharp.reset_index(inplace=True)\n",
    "for i in range(len(sharp)):\n",
    "    sharp.iloc[i] = data_return.iloc[i]/data_total_return['volatility'][i]\n",
    "    \n",
    "plt.figure(figsize =(12,6))\n",
    "sns.barplot(x='index',y='total return',data=data_total_return)\n",
    "sns.lmplot(x='volatility',y='annual return',data=data_performance)"
   ]
  },
  {
   "cell_type": "code",
   "execution_count": null,
   "metadata": {
    "collapsed": true
   },
   "outputs": [],
   "source": [
    "diff_RGDP = web.DataReader('JPNNGDP', \"fred\", start, end)"
   ]
  },
  {
   "cell_type": "markdown",
   "metadata": {},
   "source": [
    "http://holodeck.leadinfo.com.tw:8888/notebooks/sandbox/Quandl%20Test.ipynb\n",
    "        \n",
    "http://holodeck.leadinfo.com.tw:8888/notebooks/sandbox/Python_HW_Visulization.ipynb\n",
    "        \n",
    "http://holodeck.leadinfo.com.tw:8888/notebooks/sandbox/Python_HW_Data.ipynb"
   ]
  }
 ],
 "metadata": {
  "kernelspec": {
   "display_name": "Python 2",
   "language": "python",
   "name": "python2"
  },
  "language_info": {
   "codemirror_mode": {
    "name": "ipython",
    "version": 2
   },
   "file_extension": ".py",
   "mimetype": "text/x-python",
   "name": "python",
   "nbconvert_exporter": "python",
   "pygments_lexer": "ipython2",
   "version": "2.7.13"
  }
 },
 "nbformat": 4,
 "nbformat_minor": 1
}
