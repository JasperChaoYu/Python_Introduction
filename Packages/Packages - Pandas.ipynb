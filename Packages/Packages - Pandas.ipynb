{
 "cells": [
  {
   "cell_type": "markdown",
   "metadata": {},
   "source": [
    "# Python Packages - Pandas"
   ]
  },
  {
   "cell_type": "code",
   "execution_count": 1,
   "metadata": {
    "collapsed": true
   },
   "outputs": [],
   "source": [
    "from IPython.display import display"
   ]
  },
  {
   "cell_type": "markdown",
   "metadata": {},
   "source": [
    "## pandas 這個模組對我們在 Python 上進行資料處理時非常有幫助。"
   ]
  },
  {
   "cell_type": "code",
   "execution_count": 2,
   "metadata": {
    "collapsed": true
   },
   "outputs": [],
   "source": [
    "import pandas"
   ]
  },
  {
   "cell_type": "markdown",
   "metadata": {},
   "source": [
    "### pandas 模組中一個很重要的部分為在 Data Structures 中介紹的 DataFrame。"
   ]
  },
  {
   "cell_type": "code",
   "execution_count": 3,
   "metadata": {},
   "outputs": [
    {
     "data": {
      "text/html": [
       "<div>\n",
       "<table border=\"1\" class=\"dataframe\">\n",
       "  <thead>\n",
       "    <tr style=\"text-align: right;\">\n",
       "      <th></th>\n",
       "      <th>2012/01/02</th>\n",
       "      <th>2012/01/03</th>\n",
       "      <th>2012/01/04</th>\n",
       "      <th>2012/01/05</th>\n",
       "      <th>2012/01/08</th>\n",
       "      <th>2012/01/09</th>\n",
       "      <th>2012/01/10</th>\n",
       "      <th>2012/01/11</th>\n",
       "    </tr>\n",
       "  </thead>\n",
       "  <tbody>\n",
       "    <tr>\n",
       "      <th>Price</th>\n",
       "      <td>20.15</td>\n",
       "      <td>20.5</td>\n",
       "      <td>19.3</td>\n",
       "      <td>20.2</td>\n",
       "      <td>21.15</td>\n",
       "      <td>22.5</td>\n",
       "      <td>21.9</td>\n",
       "      <td>20.2</td>\n",
       "    </tr>\n",
       "    <tr>\n",
       "      <th>Volume</th>\n",
       "      <td>1000.00</td>\n",
       "      <td>3000.0</td>\n",
       "      <td>500.0</td>\n",
       "      <td>1500.0</td>\n",
       "      <td>1200.00</td>\n",
       "      <td>3500.0</td>\n",
       "      <td>100.0</td>\n",
       "      <td>1500.0</td>\n",
       "    </tr>\n",
       "  </tbody>\n",
       "</table>\n",
       "</div>"
      ],
      "text/plain": [
       "        2012/01/02  2012/01/03  2012/01/04  2012/01/05  2012/01/08  \\\n",
       "Price        20.15        20.5        19.3        20.2       21.15   \n",
       "Volume     1000.00      3000.0       500.0      1500.0     1200.00   \n",
       "\n",
       "        2012/01/09  2012/01/10  2012/01/11  \n",
       "Price         22.5        21.9        20.2  \n",
       "Volume      3500.0       100.0      1500.0  "
      ]
     },
     "execution_count": 3,
     "metadata": {},
     "output_type": "execute_result"
    }
   ],
   "source": [
    "from pandas import DataFrame\n",
    "\n",
    "Date_1 = [\"2012/01/02\",\"2012/01/03\",\"2012/01/04\",\"2012/01/05\"]\n",
    "Price_1 = [20.15,20.5,19.3,20.2]\n",
    "Volume_1 = [1000,3000,500,1500]\n",
    "\n",
    "Date_2 = [\"2012/01/08\",\"2012/01/09\",\"2012/01/10\",\"2012/01/11\"]\n",
    "Price_2 = [21.15,22.5,21.9,20.2]\n",
    "Volume_2 = [1200,3500,100,1500]\n",
    "\n",
    "data_1 = DataFrame([Price_1, Volume_1], columns=Date_1, index=[\"Price\", \"Volume\"])\n",
    "data_2 = DataFrame([Price_2, Volume_2], columns=Date_2, index=[\"Price\", \"Volume\"])\n",
    "\n",
    "pandas.concat([data_1, data_2], axis=1)"
   ]
  },
  {
   "cell_type": "markdown",
   "metadata": {},
   "source": [
    "### 此外，還有讀取 Excel、csv 檔的 Function\n",
    "\n",
    "^TWII.csv 為從 Yahoo Finance 直接下載下來的台灣加權股價指數的檔案"
   ]
  },
  {
   "cell_type": "code",
   "execution_count": 4,
   "metadata": {},
   "outputs": [
    {
     "data": {
      "text/html": [
       "<div>\n",
       "<table border=\"1\" class=\"dataframe\">\n",
       "  <thead>\n",
       "    <tr style=\"text-align: right;\">\n",
       "      <th></th>\n",
       "      <th>Date</th>\n",
       "      <th>Open</th>\n",
       "      <th>High</th>\n",
       "      <th>Low</th>\n",
       "      <th>Close</th>\n",
       "      <th>Volume</th>\n",
       "    </tr>\n",
       "  </thead>\n",
       "  <tbody>\n",
       "    <tr>\n",
       "      <th>0</th>\n",
       "      <td>2010-01-04</td>\n",
       "      <td>8222.42</td>\n",
       "      <td>8240.45</td>\n",
       "      <td>8143.45</td>\n",
       "      <td>8207.85</td>\n",
       "      <td>171654000</td>\n",
       "    </tr>\n",
       "    <tr>\n",
       "      <th>1</th>\n",
       "      <td>2010-01-05</td>\n",
       "      <td>8277.71</td>\n",
       "      <td>8283.64</td>\n",
       "      <td>8162.54</td>\n",
       "      <td>8211.40</td>\n",
       "      <td>197447000</td>\n",
       "    </tr>\n",
       "    <tr>\n",
       "      <th>2</th>\n",
       "      <td>2010-01-06</td>\n",
       "      <td>8237.10</td>\n",
       "      <td>8327.87</td>\n",
       "      <td>8216.92</td>\n",
       "      <td>8327.62</td>\n",
       "      <td>188532000</td>\n",
       "    </tr>\n",
       "    <tr>\n",
       "      <th>3</th>\n",
       "      <td>2010-01-07</td>\n",
       "      <td>8344.56</td>\n",
       "      <td>8369.55</td>\n",
       "      <td>8233.59</td>\n",
       "      <td>8237.42</td>\n",
       "      <td>203298000</td>\n",
       "    </tr>\n",
       "    <tr>\n",
       "      <th>4</th>\n",
       "      <td>2010-01-08</td>\n",
       "      <td>8266.87</td>\n",
       "      <td>8290.66</td>\n",
       "      <td>8178.93</td>\n",
       "      <td>8280.90</td>\n",
       "      <td>161863000</td>\n",
       "    </tr>\n",
       "    <tr>\n",
       "      <th>5</th>\n",
       "      <td>2010-01-11</td>\n",
       "      <td>8291.52</td>\n",
       "      <td>8357.90</td>\n",
       "      <td>8281.72</td>\n",
       "      <td>8323.82</td>\n",
       "      <td>155046000</td>\n",
       "    </tr>\n",
       "    <tr>\n",
       "      <th>6</th>\n",
       "      <td>2010-01-12</td>\n",
       "      <td>8343.73</td>\n",
       "      <td>8356.97</td>\n",
       "      <td>8262.58</td>\n",
       "      <td>8309.37</td>\n",
       "      <td>148635000</td>\n",
       "    </tr>\n",
       "    <tr>\n",
       "      <th>7</th>\n",
       "      <td>2010-01-13</td>\n",
       "      <td>8229.25</td>\n",
       "      <td>8257.83</td>\n",
       "      <td>8194.81</td>\n",
       "      <td>8196.56</td>\n",
       "      <td>142191000</td>\n",
       "    </tr>\n",
       "    <tr>\n",
       "      <th>8</th>\n",
       "      <td>2010-01-14</td>\n",
       "      <td>8245.86</td>\n",
       "      <td>8313.94</td>\n",
       "      <td>8237.67</td>\n",
       "      <td>8289.98</td>\n",
       "      <td>147832000</td>\n",
       "    </tr>\n",
       "    <tr>\n",
       "      <th>9</th>\n",
       "      <td>2010-01-15</td>\n",
       "      <td>8340.60</td>\n",
       "      <td>8380.23</td>\n",
       "      <td>8325.82</td>\n",
       "      <td>8356.89</td>\n",
       "      <td>172631000</td>\n",
       "    </tr>\n",
       "  </tbody>\n",
       "</table>\n",
       "</div>"
      ],
      "text/plain": [
       "         Date     Open     High      Low    Close     Volume\n",
       "0  2010-01-04  8222.42  8240.45  8143.45  8207.85  171654000\n",
       "1  2010-01-05  8277.71  8283.64  8162.54  8211.40  197447000\n",
       "2  2010-01-06  8237.10  8327.87  8216.92  8327.62  188532000\n",
       "3  2010-01-07  8344.56  8369.55  8233.59  8237.42  203298000\n",
       "4  2010-01-08  8266.87  8290.66  8178.93  8280.90  161863000\n",
       "5  2010-01-11  8291.52  8357.90  8281.72  8323.82  155046000\n",
       "6  2010-01-12  8343.73  8356.97  8262.58  8309.37  148635000\n",
       "7  2010-01-13  8229.25  8257.83  8194.81  8196.56  142191000\n",
       "8  2010-01-14  8245.86  8313.94  8237.67  8289.98  147832000\n",
       "9  2010-01-15  8340.60  8380.23  8325.82  8356.89  172631000"
      ]
     },
     "execution_count": 4,
     "metadata": {},
     "output_type": "execute_result"
    }
   ],
   "source": [
    "# pandas.read_excel\n",
    "pandas.read_csv(\"^TWII.csv\", nrows=10)"
   ]
  },
  {
   "cell_type": "code",
   "execution_count": 5,
   "metadata": {},
   "outputs": [
    {
     "data": {
      "text/html": [
       "<div>\n",
       "<table border=\"1\" class=\"dataframe\">\n",
       "  <thead>\n",
       "    <tr style=\"text-align: right;\">\n",
       "      <th></th>\n",
       "      <th>Open</th>\n",
       "      <th>High</th>\n",
       "      <th>Low</th>\n",
       "      <th>Close</th>\n",
       "      <th>Volume</th>\n",
       "    </tr>\n",
       "    <tr>\n",
       "      <th>Date</th>\n",
       "      <th></th>\n",
       "      <th></th>\n",
       "      <th></th>\n",
       "      <th></th>\n",
       "      <th></th>\n",
       "    </tr>\n",
       "  </thead>\n",
       "  <tbody>\n",
       "    <tr>\n",
       "      <th>2010-01-04</th>\n",
       "      <td>8222.42</td>\n",
       "      <td>8240.45</td>\n",
       "      <td>8143.45</td>\n",
       "      <td>8207.85</td>\n",
       "      <td>171654000</td>\n",
       "    </tr>\n",
       "    <tr>\n",
       "      <th>2010-01-05</th>\n",
       "      <td>8277.71</td>\n",
       "      <td>8283.64</td>\n",
       "      <td>8162.54</td>\n",
       "      <td>8211.40</td>\n",
       "      <td>197447000</td>\n",
       "    </tr>\n",
       "    <tr>\n",
       "      <th>2010-01-06</th>\n",
       "      <td>8237.10</td>\n",
       "      <td>8327.87</td>\n",
       "      <td>8216.92</td>\n",
       "      <td>8327.62</td>\n",
       "      <td>188532000</td>\n",
       "    </tr>\n",
       "    <tr>\n",
       "      <th>2010-01-07</th>\n",
       "      <td>8344.56</td>\n",
       "      <td>8369.55</td>\n",
       "      <td>8233.59</td>\n",
       "      <td>8237.42</td>\n",
       "      <td>203298000</td>\n",
       "    </tr>\n",
       "    <tr>\n",
       "      <th>2010-01-08</th>\n",
       "      <td>8266.87</td>\n",
       "      <td>8290.66</td>\n",
       "      <td>8178.93</td>\n",
       "      <td>8280.90</td>\n",
       "      <td>161863000</td>\n",
       "    </tr>\n",
       "    <tr>\n",
       "      <th>2010-01-11</th>\n",
       "      <td>8291.52</td>\n",
       "      <td>8357.90</td>\n",
       "      <td>8281.72</td>\n",
       "      <td>8323.82</td>\n",
       "      <td>155046000</td>\n",
       "    </tr>\n",
       "    <tr>\n",
       "      <th>2010-01-12</th>\n",
       "      <td>8343.73</td>\n",
       "      <td>8356.97</td>\n",
       "      <td>8262.58</td>\n",
       "      <td>8309.37</td>\n",
       "      <td>148635000</td>\n",
       "    </tr>\n",
       "    <tr>\n",
       "      <th>2010-01-13</th>\n",
       "      <td>8229.25</td>\n",
       "      <td>8257.83</td>\n",
       "      <td>8194.81</td>\n",
       "      <td>8196.56</td>\n",
       "      <td>142191000</td>\n",
       "    </tr>\n",
       "    <tr>\n",
       "      <th>2010-01-14</th>\n",
       "      <td>8245.86</td>\n",
       "      <td>8313.94</td>\n",
       "      <td>8237.67</td>\n",
       "      <td>8289.98</td>\n",
       "      <td>147832000</td>\n",
       "    </tr>\n",
       "    <tr>\n",
       "      <th>2010-01-15</th>\n",
       "      <td>8340.60</td>\n",
       "      <td>8380.23</td>\n",
       "      <td>8325.82</td>\n",
       "      <td>8356.89</td>\n",
       "      <td>172631000</td>\n",
       "    </tr>\n",
       "  </tbody>\n",
       "</table>\n",
       "</div>"
      ],
      "text/plain": [
       "               Open     High      Low    Close     Volume\n",
       "Date                                                     \n",
       "2010-01-04  8222.42  8240.45  8143.45  8207.85  171654000\n",
       "2010-01-05  8277.71  8283.64  8162.54  8211.40  197447000\n",
       "2010-01-06  8237.10  8327.87  8216.92  8327.62  188532000\n",
       "2010-01-07  8344.56  8369.55  8233.59  8237.42  203298000\n",
       "2010-01-08  8266.87  8290.66  8178.93  8280.90  161863000\n",
       "2010-01-11  8291.52  8357.90  8281.72  8323.82  155046000\n",
       "2010-01-12  8343.73  8356.97  8262.58  8309.37  148635000\n",
       "2010-01-13  8229.25  8257.83  8194.81  8196.56  142191000\n",
       "2010-01-14  8245.86  8313.94  8237.67  8289.98  147832000\n",
       "2010-01-15  8340.60  8380.23  8325.82  8356.89  172631000"
      ]
     },
     "execution_count": 5,
     "metadata": {},
     "output_type": "execute_result"
    }
   ],
   "source": [
    "pandas.read_csv(\"^TWII.csv\", nrows=10, index_col=0)"
   ]
  },
  {
   "cell_type": "code",
   "execution_count": 6,
   "metadata": {
    "collapsed": true
   },
   "outputs": [],
   "source": [
    "raw_TWII_data = pandas.read_csv(\"^TWII.csv\", index_col=0)"
   ]
  },
  {
   "cell_type": "code",
   "execution_count": 7,
   "metadata": {},
   "outputs": [
    {
     "data": {
      "text/plain": [
       "'2010-01-04'"
      ]
     },
     "execution_count": 7,
     "metadata": {},
     "output_type": "execute_result"
    }
   ],
   "source": [
    "raw_TWII_data.index[0]"
   ]
  },
  {
   "cell_type": "markdown",
   "metadata": {},
   "source": [
    "### 由於 csv 檔中的日期為字串（string），希望將他轉為 datetime.datetime 的形式。\n",
    "\n",
    "直接利用 datetime.datetime.strptime 對每一個日期的元素作轉換"
   ]
  },
  {
   "cell_type": "code",
   "execution_count": 8,
   "metadata": {},
   "outputs": [
    {
     "data": {
      "text/plain": [
       "Timestamp('2010-01-04 00:00:00')"
      ]
     },
     "execution_count": 8,
     "metadata": {},
     "output_type": "execute_result"
    }
   ],
   "source": [
    "import datetime\n",
    "TWII_date = [datetime.datetime.strptime(date, \"%Y-%m-%d\") for date in raw_TWII_data.index.tolist()]\n",
    "TWII_data = raw_TWII_data.copy()\n",
    "TWII_data.index = TWII_date\n",
    "TWII_data.index[0]"
   ]
  },
  {
   "cell_type": "markdown",
   "metadata": {},
   "source": [
    "或是 pandas 中有一個 to_datetime function 可以利用\n",
    "\n",
    "如果 Dataframe 中有希望從字串轉為數字的欄位，也可以利用 pandas.to_numeric。"
   ]
  },
  {
   "cell_type": "code",
   "execution_count": 9,
   "metadata": {},
   "outputs": [
    {
     "data": {
      "text/plain": [
       "[Timestamp('2010-01-04 00:00:00'),\n",
       " Timestamp('2010-01-05 00:00:00'),\n",
       " Timestamp('2010-01-06 00:00:00'),\n",
       " Timestamp('2010-01-07 00:00:00'),\n",
       " Timestamp('2010-01-08 00:00:00'),\n",
       " Timestamp('2010-01-11 00:00:00'),\n",
       " Timestamp('2010-01-12 00:00:00'),\n",
       " Timestamp('2010-01-13 00:00:00'),\n",
       " Timestamp('2010-01-14 00:00:00'),\n",
       " Timestamp('2010-01-15 00:00:00')]"
      ]
     },
     "execution_count": 9,
     "metadata": {},
     "output_type": "execute_result"
    }
   ],
   "source": [
    "pandas.to_datetime(raw_TWII_data.index).tolist()[:10]"
   ]
  },
  {
   "cell_type": "markdown",
   "metadata": {},
   "source": [
    "### 其實在做接下來的計算會發現，日期並沒有排序正確，可以先做個 DataFrame.sort_index( ) 以防萬一。"
   ]
  },
  {
   "cell_type": "code",
   "execution_count": 10,
   "metadata": {
    "collapsed": true
   },
   "outputs": [],
   "source": [
    "TWII_data = TWII_data.sort_index()"
   ]
  },
  {
   "cell_type": "code",
   "execution_count": 11,
   "metadata": {},
   "outputs": [
    {
     "data": {
      "text/html": [
       "<div>\n",
       "<table border=\"1\" class=\"dataframe\">\n",
       "  <thead>\n",
       "    <tr style=\"text-align: right;\">\n",
       "      <th></th>\n",
       "      <th>Open</th>\n",
       "      <th>High</th>\n",
       "      <th>Low</th>\n",
       "      <th>Close</th>\n",
       "      <th>Volume</th>\n",
       "    </tr>\n",
       "  </thead>\n",
       "  <tbody>\n",
       "    <tr>\n",
       "      <th>1967-01-09</th>\n",
       "      <td>92.68</td>\n",
       "      <td>92.82</td>\n",
       "      <td>92.68</td>\n",
       "      <td>92.82</td>\n",
       "      <td>0.0</td>\n",
       "    </tr>\n",
       "    <tr>\n",
       "      <th>1967-01-10</th>\n",
       "      <td>92.82</td>\n",
       "      <td>92.83</td>\n",
       "      <td>92.82</td>\n",
       "      <td>92.83</td>\n",
       "      <td>0.0</td>\n",
       "    </tr>\n",
       "    <tr>\n",
       "      <th>1967-01-11</th>\n",
       "      <td>92.83</td>\n",
       "      <td>93.17</td>\n",
       "      <td>92.83</td>\n",
       "      <td>93.17</td>\n",
       "      <td>0.0</td>\n",
       "    </tr>\n",
       "    <tr>\n",
       "      <th>1967-01-12</th>\n",
       "      <td>93.17</td>\n",
       "      <td>93.17</td>\n",
       "      <td>92.70</td>\n",
       "      <td>92.70</td>\n",
       "      <td>0.0</td>\n",
       "    </tr>\n",
       "    <tr>\n",
       "      <th>1967-01-13</th>\n",
       "      <td>92.70</td>\n",
       "      <td>93.46</td>\n",
       "      <td>92.70</td>\n",
       "      <td>93.46</td>\n",
       "      <td>0.0</td>\n",
       "    </tr>\n",
       "    <tr>\n",
       "      <th>1967-01-14</th>\n",
       "      <td>93.46</td>\n",
       "      <td>94.13</td>\n",
       "      <td>93.46</td>\n",
       "      <td>94.13</td>\n",
       "      <td>0.0</td>\n",
       "    </tr>\n",
       "    <tr>\n",
       "      <th>1967-01-16</th>\n",
       "      <td>94.13</td>\n",
       "      <td>95.37</td>\n",
       "      <td>94.13</td>\n",
       "      <td>95.37</td>\n",
       "      <td>0.0</td>\n",
       "    </tr>\n",
       "    <tr>\n",
       "      <th>1967-01-17</th>\n",
       "      <td>95.37</td>\n",
       "      <td>95.37</td>\n",
       "      <td>94.60</td>\n",
       "      <td>94.60</td>\n",
       "      <td>0.0</td>\n",
       "    </tr>\n",
       "    <tr>\n",
       "      <th>1967-01-18</th>\n",
       "      <td>94.60</td>\n",
       "      <td>94.94</td>\n",
       "      <td>94.60</td>\n",
       "      <td>94.94</td>\n",
       "      <td>0.0</td>\n",
       "    </tr>\n",
       "    <tr>\n",
       "      <th>1967-01-19</th>\n",
       "      <td>94.94</td>\n",
       "      <td>94.94</td>\n",
       "      <td>94.83</td>\n",
       "      <td>94.83</td>\n",
       "      <td>0.0</td>\n",
       "    </tr>\n",
       "  </tbody>\n",
       "</table>\n",
       "</div>"
      ],
      "text/plain": [
       "             Open   High    Low  Close  Volume\n",
       "1967-01-09  92.68  92.82  92.68  92.82     0.0\n",
       "1967-01-10  92.82  92.83  92.82  92.83     0.0\n",
       "1967-01-11  92.83  93.17  92.83  93.17     0.0\n",
       "1967-01-12  93.17  93.17  92.70  92.70     0.0\n",
       "1967-01-13  92.70  93.46  92.70  93.46     0.0\n",
       "1967-01-14  93.46  94.13  93.46  94.13     0.0\n",
       "1967-01-16  94.13  95.37  94.13  95.37     0.0\n",
       "1967-01-17  95.37  95.37  94.60  94.60     0.0\n",
       "1967-01-18  94.60  94.94  94.60  94.94     0.0\n",
       "1967-01-19  94.94  94.94  94.83  94.83     0.0"
      ]
     },
     "execution_count": 11,
     "metadata": {},
     "output_type": "execute_result"
    }
   ],
   "source": [
    "TWII_data.iloc[:10]"
   ]
  },
  {
   "cell_type": "markdown",
   "metadata": {},
   "source": [
    "### pandas 中有些與 rolling 相關的 function，皆可以協助我們利用 moving window 的方式，對資料進行統計運算。\n",
    "### 這些 rolling 相關的 function 已經都直接被改至 DataFrame 底下，所以可以直接被 DataFrame 型態的資料所使用。"
   ]
  },
  {
   "cell_type": "code",
   "execution_count": 12,
   "metadata": {
    "scrolled": true
   },
   "outputs": [
    {
     "name": "stderr",
     "output_type": "stream",
     "text": [
      "/Library/Frameworks/Python.framework/Versions/2.7/lib/python2.7/site-packages/ipykernel/__main__.py:1: FutureWarning: pd.rolling_mean is deprecated for DataFrame and will be removed in a future version, replace with \n",
      "\tDataFrame.rolling(window=2,center=False,axis=0).mean()\n",
      "  if __name__ == '__main__':\n"
     ]
    },
    {
     "data": {
      "text/html": [
       "<div>\n",
       "<table border=\"1\" class=\"dataframe\">\n",
       "  <thead>\n",
       "    <tr style=\"text-align: right;\">\n",
       "      <th></th>\n",
       "      <th>Open</th>\n",
       "      <th>High</th>\n",
       "      <th>Low</th>\n",
       "      <th>Close</th>\n",
       "      <th>Volume</th>\n",
       "    </tr>\n",
       "  </thead>\n",
       "  <tbody>\n",
       "    <tr>\n",
       "      <th>1967-01-09</th>\n",
       "      <td>NaN</td>\n",
       "      <td>NaN</td>\n",
       "      <td>NaN</td>\n",
       "      <td>NaN</td>\n",
       "      <td>NaN</td>\n",
       "    </tr>\n",
       "    <tr>\n",
       "      <th>1967-01-10</th>\n",
       "      <td>92.750</td>\n",
       "      <td>92.825</td>\n",
       "      <td>92.750</td>\n",
       "      <td>92.825</td>\n",
       "      <td>0.0</td>\n",
       "    </tr>\n",
       "    <tr>\n",
       "      <th>1967-01-11</th>\n",
       "      <td>92.825</td>\n",
       "      <td>93.000</td>\n",
       "      <td>92.825</td>\n",
       "      <td>93.000</td>\n",
       "      <td>0.0</td>\n",
       "    </tr>\n",
       "    <tr>\n",
       "      <th>1967-01-12</th>\n",
       "      <td>93.000</td>\n",
       "      <td>93.170</td>\n",
       "      <td>92.765</td>\n",
       "      <td>92.935</td>\n",
       "      <td>0.0</td>\n",
       "    </tr>\n",
       "    <tr>\n",
       "      <th>1967-01-13</th>\n",
       "      <td>92.935</td>\n",
       "      <td>93.315</td>\n",
       "      <td>92.700</td>\n",
       "      <td>93.080</td>\n",
       "      <td>0.0</td>\n",
       "    </tr>\n",
       "  </tbody>\n",
       "</table>\n",
       "</div>"
      ],
      "text/plain": [
       "              Open    High     Low   Close  Volume\n",
       "1967-01-09     NaN     NaN     NaN     NaN     NaN\n",
       "1967-01-10  92.750  92.825  92.750  92.825     0.0\n",
       "1967-01-11  92.825  93.000  92.825  93.000     0.0\n",
       "1967-01-12  93.000  93.170  92.765  92.935     0.0\n",
       "1967-01-13  92.935  93.315  92.700  93.080     0.0"
      ]
     },
     "execution_count": 12,
     "metadata": {},
     "output_type": "execute_result"
    }
   ],
   "source": [
    "pandas.rolling_mean(TWII_data, window=2, axis=0).head()"
   ]
  },
  {
   "cell_type": "code",
   "execution_count": 13,
   "metadata": {},
   "outputs": [
    {
     "data": {
      "text/html": [
       "<div>\n",
       "<table border=\"1\" class=\"dataframe\">\n",
       "  <thead>\n",
       "    <tr style=\"text-align: right;\">\n",
       "      <th></th>\n",
       "      <th>Open</th>\n",
       "      <th>High</th>\n",
       "      <th>Low</th>\n",
       "      <th>Close</th>\n",
       "      <th>Volume</th>\n",
       "    </tr>\n",
       "  </thead>\n",
       "  <tbody>\n",
       "    <tr>\n",
       "      <th>1967-01-09</th>\n",
       "      <td>NaN</td>\n",
       "      <td>NaN</td>\n",
       "      <td>NaN</td>\n",
       "      <td>NaN</td>\n",
       "      <td>NaN</td>\n",
       "    </tr>\n",
       "    <tr>\n",
       "      <th>1967-01-10</th>\n",
       "      <td>92.750</td>\n",
       "      <td>92.825</td>\n",
       "      <td>92.750</td>\n",
       "      <td>92.825</td>\n",
       "      <td>0.0</td>\n",
       "    </tr>\n",
       "    <tr>\n",
       "      <th>1967-01-11</th>\n",
       "      <td>92.825</td>\n",
       "      <td>93.000</td>\n",
       "      <td>92.825</td>\n",
       "      <td>93.000</td>\n",
       "      <td>0.0</td>\n",
       "    </tr>\n",
       "    <tr>\n",
       "      <th>1967-01-12</th>\n",
       "      <td>93.000</td>\n",
       "      <td>93.170</td>\n",
       "      <td>92.765</td>\n",
       "      <td>92.935</td>\n",
       "      <td>0.0</td>\n",
       "    </tr>\n",
       "    <tr>\n",
       "      <th>1967-01-13</th>\n",
       "      <td>92.935</td>\n",
       "      <td>93.315</td>\n",
       "      <td>92.700</td>\n",
       "      <td>93.080</td>\n",
       "      <td>0.0</td>\n",
       "    </tr>\n",
       "  </tbody>\n",
       "</table>\n",
       "</div>"
      ],
      "text/plain": [
       "              Open    High     Low   Close  Volume\n",
       "1967-01-09     NaN     NaN     NaN     NaN     NaN\n",
       "1967-01-10  92.750  92.825  92.750  92.825     0.0\n",
       "1967-01-11  92.825  93.000  92.825  93.000     0.0\n",
       "1967-01-12  93.000  93.170  92.765  92.935     0.0\n",
       "1967-01-13  92.935  93.315  92.700  93.080     0.0"
      ]
     },
     "execution_count": 13,
     "metadata": {},
     "output_type": "execute_result"
    }
   ],
   "source": [
    "TWII_data.rolling(window=2, axis=0).mean().head()"
   ]
  },
  {
   "cell_type": "markdown",
   "metadata": {},
   "source": [
    "### 除了 mean 外，還可以計算 max、min、median、quantile 以及 std 與 var。\n",
    "### 也可以計算 correlation（corr）及（cov）。"
   ]
  },
  {
   "cell_type": "code",
   "execution_count": 14,
   "metadata": {},
   "outputs": [
    {
     "data": {
      "text/html": [
       "<div>\n",
       "<table border=\"1\" class=\"dataframe\">\n",
       "  <thead>\n",
       "    <tr style=\"text-align: right;\">\n",
       "      <th></th>\n",
       "      <th>Open</th>\n",
       "      <th>High</th>\n",
       "      <th>Low</th>\n",
       "      <th>Close</th>\n",
       "      <th>Volume</th>\n",
       "    </tr>\n",
       "  </thead>\n",
       "  <tbody>\n",
       "    <tr>\n",
       "      <th>Open</th>\n",
       "      <td>1.000000</td>\n",
       "      <td>0.878655</td>\n",
       "      <td>0.921200</td>\n",
       "      <td>0.673388</td>\n",
       "      <td>NaN</td>\n",
       "    </tr>\n",
       "    <tr>\n",
       "      <th>High</th>\n",
       "      <td>0.878655</td>\n",
       "      <td>1.000000</td>\n",
       "      <td>0.905088</td>\n",
       "      <td>0.914506</td>\n",
       "      <td>NaN</td>\n",
       "    </tr>\n",
       "    <tr>\n",
       "      <th>Low</th>\n",
       "      <td>0.921200</td>\n",
       "      <td>0.905088</td>\n",
       "      <td>1.000000</td>\n",
       "      <td>0.855519</td>\n",
       "      <td>NaN</td>\n",
       "    </tr>\n",
       "    <tr>\n",
       "      <th>Close</th>\n",
       "      <td>0.673388</td>\n",
       "      <td>0.914506</td>\n",
       "      <td>0.855519</td>\n",
       "      <td>1.000000</td>\n",
       "      <td>NaN</td>\n",
       "    </tr>\n",
       "    <tr>\n",
       "      <th>Volume</th>\n",
       "      <td>NaN</td>\n",
       "      <td>NaN</td>\n",
       "      <td>NaN</td>\n",
       "      <td>NaN</td>\n",
       "      <td>NaN</td>\n",
       "    </tr>\n",
       "  </tbody>\n",
       "</table>\n",
       "</div>"
      ],
      "text/plain": [
       "            Open      High       Low     Close  Volume\n",
       "Open    1.000000  0.878655  0.921200  0.673388     NaN\n",
       "High    0.878655  1.000000  0.905088  0.914506     NaN\n",
       "Low     0.921200  0.905088  1.000000  0.855519     NaN\n",
       "Close   0.673388  0.914506  0.855519  1.000000     NaN\n",
       "Volume       NaN       NaN       NaN       NaN     NaN"
      ]
     },
     "execution_count": 14,
     "metadata": {},
     "output_type": "execute_result"
    }
   ],
   "source": [
    "TWII_data.rolling(window=20, axis=0).corr().iloc[19]"
   ]
  },
  {
   "cell_type": "code",
   "execution_count": 15,
   "metadata": {},
   "outputs": [
    {
     "data": {
      "text/html": [
       "<div>\n",
       "<table border=\"1\" class=\"dataframe\">\n",
       "  <thead>\n",
       "    <tr style=\"text-align: right;\">\n",
       "      <th></th>\n",
       "      <th>Open</th>\n",
       "      <th>High</th>\n",
       "      <th>Low</th>\n",
       "      <th>Close</th>\n",
       "      <th>Volume</th>\n",
       "    </tr>\n",
       "  </thead>\n",
       "  <tbody>\n",
       "    <tr>\n",
       "      <th>Open</th>\n",
       "      <td>0.642646</td>\n",
       "      <td>0.550816</td>\n",
       "      <td>0.497747</td>\n",
       "      <td>0.405917</td>\n",
       "      <td>0.0</td>\n",
       "    </tr>\n",
       "    <tr>\n",
       "      <th>High</th>\n",
       "      <td>0.550816</td>\n",
       "      <td>0.611511</td>\n",
       "      <td>0.477047</td>\n",
       "      <td>0.537742</td>\n",
       "      <td>0.0</td>\n",
       "    </tr>\n",
       "    <tr>\n",
       "      <th>Low</th>\n",
       "      <td>0.497747</td>\n",
       "      <td>0.477047</td>\n",
       "      <td>0.454295</td>\n",
       "      <td>0.433595</td>\n",
       "      <td>0.0</td>\n",
       "    </tr>\n",
       "    <tr>\n",
       "      <th>Close</th>\n",
       "      <td>0.405917</td>\n",
       "      <td>0.537742</td>\n",
       "      <td>0.433595</td>\n",
       "      <td>0.565420</td>\n",
       "      <td>0.0</td>\n",
       "    </tr>\n",
       "    <tr>\n",
       "      <th>Volume</th>\n",
       "      <td>0.000000</td>\n",
       "      <td>0.000000</td>\n",
       "      <td>0.000000</td>\n",
       "      <td>0.000000</td>\n",
       "      <td>0.0</td>\n",
       "    </tr>\n",
       "  </tbody>\n",
       "</table>\n",
       "</div>"
      ],
      "text/plain": [
       "            Open      High       Low     Close  Volume\n",
       "Open    0.642646  0.550816  0.497747  0.405917     0.0\n",
       "High    0.550816  0.611511  0.477047  0.537742     0.0\n",
       "Low     0.497747  0.477047  0.454295  0.433595     0.0\n",
       "Close   0.405917  0.537742  0.433595  0.565420     0.0\n",
       "Volume  0.000000  0.000000  0.000000  0.000000     0.0"
      ]
     },
     "execution_count": 15,
     "metadata": {},
     "output_type": "execute_result"
    }
   ],
   "source": [
    "TWII_data.rolling(window=20, axis=0).cov().iloc[19]"
   ]
  },
  {
   "cell_type": "markdown",
   "metadata": {},
   "source": [
    "### Rolling 的用法在財務上，讓我們很方便的可以對價格資料進行技術分析的運算。\n",
    "### 更有 ewma 直接計算 Exponentially-weighted moving average。"
   ]
  },
  {
   "cell_type": "code",
   "execution_count": 16,
   "metadata": {
    "scrolled": true
   },
   "outputs": [
    {
     "data": {
      "text/html": [
       "<div>\n",
       "<table border=\"1\" class=\"dataframe\">\n",
       "  <thead>\n",
       "    <tr style=\"text-align: right;\">\n",
       "      <th></th>\n",
       "      <th>Open</th>\n",
       "      <th>High</th>\n",
       "      <th>Low</th>\n",
       "      <th>Close</th>\n",
       "      <th>Volume</th>\n",
       "    </tr>\n",
       "  </thead>\n",
       "  <tbody>\n",
       "    <tr>\n",
       "      <th>1967-01-09</th>\n",
       "      <td>92.680000</td>\n",
       "      <td>92.820000</td>\n",
       "      <td>92.680000</td>\n",
       "      <td>92.820000</td>\n",
       "      <td>0.0</td>\n",
       "    </tr>\n",
       "    <tr>\n",
       "      <th>1967-01-10</th>\n",
       "      <td>92.785000</td>\n",
       "      <td>92.827500</td>\n",
       "      <td>92.785000</td>\n",
       "      <td>92.827500</td>\n",
       "      <td>0.0</td>\n",
       "    </tr>\n",
       "    <tr>\n",
       "      <th>1967-01-11</th>\n",
       "      <td>92.816154</td>\n",
       "      <td>93.064615</td>\n",
       "      <td>92.816154</td>\n",
       "      <td>93.064615</td>\n",
       "      <td>0.0</td>\n",
       "    </tr>\n",
       "    <tr>\n",
       "      <th>1967-01-12</th>\n",
       "      <td>93.055000</td>\n",
       "      <td>93.135750</td>\n",
       "      <td>92.737750</td>\n",
       "      <td>92.818500</td>\n",
       "      <td>0.0</td>\n",
       "    </tr>\n",
       "    <tr>\n",
       "      <th>1967-01-13</th>\n",
       "      <td>92.817355</td>\n",
       "      <td>93.352810</td>\n",
       "      <td>92.712479</td>\n",
       "      <td>93.247934</td>\n",
       "      <td>0.0</td>\n",
       "    </tr>\n",
       "    <tr>\n",
       "      <th>1967-01-14</th>\n",
       "      <td>93.246374</td>\n",
       "      <td>93.871648</td>\n",
       "      <td>93.211511</td>\n",
       "      <td>93.836786</td>\n",
       "      <td>0.0</td>\n",
       "    </tr>\n",
       "    <tr>\n",
       "      <th>1967-01-16</th>\n",
       "      <td>93.835727</td>\n",
       "      <td>94.871006</td>\n",
       "      <td>93.824117</td>\n",
       "      <td>94.859396</td>\n",
       "      <td>0.0</td>\n",
       "    </tr>\n",
       "    <tr>\n",
       "      <th>1967-01-17</th>\n",
       "      <td>94.858732</td>\n",
       "      <td>95.203720</td>\n",
       "      <td>94.341451</td>\n",
       "      <td>94.686439</td>\n",
       "      <td>0.0</td>\n",
       "    </tr>\n",
       "    <tr>\n",
       "      <th>1967-01-18</th>\n",
       "      <td>94.686235</td>\n",
       "      <td>95.027898</td>\n",
       "      <td>94.513826</td>\n",
       "      <td>94.855488</td>\n",
       "      <td>0.0</td>\n",
       "    </tr>\n",
       "    <tr>\n",
       "      <th>1967-01-19</th>\n",
       "      <td>94.855415</td>\n",
       "      <td>94.969298</td>\n",
       "      <td>94.724612</td>\n",
       "      <td>94.838496</td>\n",
       "      <td>0.0</td>\n",
       "    </tr>\n",
       "  </tbody>\n",
       "</table>\n",
       "</div>"
      ],
      "text/plain": [
       "                 Open       High        Low      Close  Volume\n",
       "1967-01-09  92.680000  92.820000  92.680000  92.820000     0.0\n",
       "1967-01-10  92.785000  92.827500  92.785000  92.827500     0.0\n",
       "1967-01-11  92.816154  93.064615  92.816154  93.064615     0.0\n",
       "1967-01-12  93.055000  93.135750  92.737750  92.818500     0.0\n",
       "1967-01-13  92.817355  93.352810  92.712479  93.247934     0.0\n",
       "1967-01-14  93.246374  93.871648  93.211511  93.836786     0.0\n",
       "1967-01-16  93.835727  94.871006  93.824117  94.859396     0.0\n",
       "1967-01-17  94.858732  95.203720  94.341451  94.686439     0.0\n",
       "1967-01-18  94.686235  95.027898  94.513826  94.855488     0.0\n",
       "1967-01-19  94.855415  94.969298  94.724612  94.838496     0.0"
      ]
     },
     "execution_count": 16,
     "metadata": {},
     "output_type": "execute_result"
    }
   ],
   "source": [
    "TWII_data.ewm(ignore_na=False,span=2,min_periods=0,adjust=True).mean().iloc[:10]"
   ]
  },
  {
   "cell_type": "code",
   "execution_count": 17,
   "metadata": {},
   "outputs": [
    {
     "data": {
      "text/plain": [
       "<matplotlib.axes._subplots.AxesSubplot at 0x107cb2310>"
      ]
     },
     "execution_count": 17,
     "metadata": {},
     "output_type": "execute_result"
    },
    {
     "data": {
      "image/png": "[encoded data removed]",
      "text/plain": [
       "<matplotlib.figure.Figure at 0x107c21ad0>"
      ]
     },
     "metadata": {},
     "output_type": "display_data"
    }
   ],
   "source": [
    "% matplotlib inline\n",
    "TWII_data[[\"Close\"]].plot()"
   ]
  },
  {
   "cell_type": "markdown",
   "metadata": {},
   "source": [
    "### 如果想要算出每隔一段時間（如一個月、一週、一季）的統計數據，可以先用 DataFrame.groupy( ) 將資料按照需要的時間段做分群。分群後就可以在後面接上 .mean( )、.std( ) 等等需要的統計資訊。\n",
    "### 其中可以使用 pandas.TimeGrouper( freq=\"\" ) 來設定每一段的時間長度：\n",
    "    - 'M'：monthly\n",
    "    - 'A'：annually\n",
    "    - 'Q'：quarterly\n",
    "    - 'W'：weekly\n",
    "其餘可以用的週期可以參考：https://chrisalbon.com/python/pandas_group_data_by_time.html"
   ]
  },
  {
   "cell_type": "code",
   "execution_count": 18,
   "metadata": {},
   "outputs": [
    {
     "data": {
      "text/plain": [
       "<pandas.core.groupby.DataFrameGroupBy object at 0x108026d90>"
      ]
     },
     "execution_count": 18,
     "metadata": {},
     "output_type": "execute_result"
    }
   ],
   "source": [
    "TWII_data.groupby(pandas.TimeGrouper(freq=\"M\"))"
   ]
  },
  {
   "cell_type": "code",
   "execution_count": 19,
   "metadata": {},
   "outputs": [
    {
     "data": {
      "text/html": [
       "<div>\n",
       "<table border=\"1\" class=\"dataframe\">\n",
       "  <thead>\n",
       "    <tr style=\"text-align: right;\">\n",
       "      <th></th>\n",
       "      <th>Open</th>\n",
       "      <th>High</th>\n",
       "      <th>Low</th>\n",
       "      <th>Close</th>\n",
       "      <th>Volume</th>\n",
       "    </tr>\n",
       "  </thead>\n",
       "  <tbody>\n",
       "    <tr>\n",
       "      <th>2017-04-30</th>\n",
       "      <td>9803.947222</td>\n",
       "      <td>9832.740000</td>\n",
       "      <td>9764.031667</td>\n",
       "      <td>9801.368333</td>\n",
       "      <td>8.730044e+07</td>\n",
       "    </tr>\n",
       "    <tr>\n",
       "      <th>2017-05-31</th>\n",
       "      <td>9988.347500</td>\n",
       "      <td>10017.369000</td>\n",
       "      <td>9963.268500</td>\n",
       "      <td>9993.664000</td>\n",
       "      <td>8.800555e+07</td>\n",
       "    </tr>\n",
       "    <tr>\n",
       "      <th>2017-06-30</th>\n",
       "      <td>10250.495455</td>\n",
       "      <td>10292.904545</td>\n",
       "      <td>10226.945455</td>\n",
       "      <td>10266.772727</td>\n",
       "      <td>9.382850e+07</td>\n",
       "    </tr>\n",
       "    <tr>\n",
       "      <th>2017-07-31</th>\n",
       "      <td>10417.457143</td>\n",
       "      <td>10452.071429</td>\n",
       "      <td>10390.542857</td>\n",
       "      <td>10425.923810</td>\n",
       "      <td>9.634929e+07</td>\n",
       "    </tr>\n",
       "    <tr>\n",
       "      <th>2017-08-31</th>\n",
       "      <td>10408.500000</td>\n",
       "      <td>10470.000000</td>\n",
       "      <td>10408.500000</td>\n",
       "      <td>10437.300000</td>\n",
       "      <td>1.101720e+08</td>\n",
       "    </tr>\n",
       "  </tbody>\n",
       "</table>\n",
       "</div>"
      ],
      "text/plain": [
       "                    Open          High           Low         Close  \\\n",
       "2017-04-30   9803.947222   9832.740000   9764.031667   9801.368333   \n",
       "2017-05-31   9988.347500  10017.369000   9963.268500   9993.664000   \n",
       "2017-06-30  10250.495455  10292.904545  10226.945455  10266.772727   \n",
       "2017-07-31  10417.457143  10452.071429  10390.542857  10425.923810   \n",
       "2017-08-31  10408.500000  10470.000000  10408.500000  10437.300000   \n",
       "\n",
       "                  Volume  \n",
       "2017-04-30  8.730044e+07  \n",
       "2017-05-31  8.800555e+07  \n",
       "2017-06-30  9.382850e+07  \n",
       "2017-07-31  9.634929e+07  \n",
       "2017-08-31  1.101720e+08  "
      ]
     },
     "execution_count": 19,
     "metadata": {},
     "output_type": "execute_result"
    }
   ],
   "source": [
    "TWII_data.groupby(pandas.TimeGrouper(freq=\"M\")).mean().iloc[-5:]"
   ]
  },
  {
   "cell_type": "code",
   "execution_count": 20,
   "metadata": {},
   "outputs": [
    {
     "data": {
      "text/html": [
       "<div>\n",
       "<table border=\"1\" class=\"dataframe\">\n",
       "  <thead>\n",
       "    <tr style=\"text-align: right;\">\n",
       "      <th></th>\n",
       "      <th>Open</th>\n",
       "      <th>High</th>\n",
       "      <th>Low</th>\n",
       "      <th>Close</th>\n",
       "      <th>Volume</th>\n",
       "    </tr>\n",
       "  </thead>\n",
       "  <tbody>\n",
       "    <tr>\n",
       "      <th>1967-01-31</th>\n",
       "      <td>0.801652</td>\n",
       "      <td>0.781991</td>\n",
       "      <td>0.674014</td>\n",
       "      <td>0.751944</td>\n",
       "      <td>0.0</td>\n",
       "    </tr>\n",
       "    <tr>\n",
       "      <th>1967-03-31</th>\n",
       "      <td>1.245570</td>\n",
       "      <td>1.269909</td>\n",
       "      <td>1.198926</td>\n",
       "      <td>1.279941</td>\n",
       "      <td>0.0</td>\n",
       "    </tr>\n",
       "    <tr>\n",
       "      <th>1967-05-31</th>\n",
       "      <td>1.516560</td>\n",
       "      <td>1.447828</td>\n",
       "      <td>1.441732</td>\n",
       "      <td>1.413644</td>\n",
       "      <td>0.0</td>\n",
       "    </tr>\n",
       "    <tr>\n",
       "      <th>1967-07-31</th>\n",
       "      <td>1.400229</td>\n",
       "      <td>0.995985</td>\n",
       "      <td>1.665990</td>\n",
       "      <td>1.412294</td>\n",
       "      <td>0.0</td>\n",
       "    </tr>\n",
       "    <tr>\n",
       "      <th>1967-09-30</th>\n",
       "      <td>0.871405</td>\n",
       "      <td>0.895044</td>\n",
       "      <td>0.863952</td>\n",
       "      <td>0.909038</td>\n",
       "      <td>0.0</td>\n",
       "    </tr>\n",
       "  </tbody>\n",
       "</table>\n",
       "</div>"
      ],
      "text/plain": [
       "                Open      High       Low     Close  Volume\n",
       "1967-01-31  0.801652  0.781991  0.674014  0.751944     0.0\n",
       "1967-03-31  1.245570  1.269909  1.198926  1.279941     0.0\n",
       "1967-05-31  1.516560  1.447828  1.441732  1.413644     0.0\n",
       "1967-07-31  1.400229  0.995985  1.665990  1.412294     0.0\n",
       "1967-09-30  0.871405  0.895044  0.863952  0.909038     0.0"
      ]
     },
     "execution_count": 20,
     "metadata": {},
     "output_type": "execute_result"
    }
   ],
   "source": [
    "TWII_data.groupby(pandas.TimeGrouper(freq=\"2M\")).std().iloc[:5]"
   ]
  },
  {
   "cell_type": "code",
   "execution_count": 21,
   "metadata": {},
   "outputs": [
    {
     "data": {
      "text/html": [
       "<div>\n",
       "<table border=\"1\" class=\"dataframe\">\n",
       "  <thead>\n",
       "    <tr style=\"text-align: right;\">\n",
       "      <th></th>\n",
       "      <th>Open</th>\n",
       "      <th>High</th>\n",
       "      <th>Low</th>\n",
       "      <th>Close</th>\n",
       "      <th>Volume</th>\n",
       "    </tr>\n",
       "  </thead>\n",
       "  <tbody>\n",
       "    <tr>\n",
       "      <th>2013-12-31</th>\n",
       "      <td>224.768318</td>\n",
       "      <td>225.054299</td>\n",
       "      <td>228.432674</td>\n",
       "      <td>227.439215</td>\n",
       "      <td>1.190646e+07</td>\n",
       "    </tr>\n",
       "    <tr>\n",
       "      <th>2014-12-31</th>\n",
       "      <td>299.746665</td>\n",
       "      <td>301.053491</td>\n",
       "      <td>298.040009</td>\n",
       "      <td>301.606118</td>\n",
       "      <td>1.663930e+07</td>\n",
       "    </tr>\n",
       "    <tr>\n",
       "      <th>2015-12-31</th>\n",
       "      <td>606.639972</td>\n",
       "      <td>599.542285</td>\n",
       "      <td>616.708804</td>\n",
       "      <td>605.856051</td>\n",
       "      <td>1.675109e+07</td>\n",
       "    </tr>\n",
       "    <tr>\n",
       "      <th>2016-12-31</th>\n",
       "      <td>447.139353</td>\n",
       "      <td>441.396992</td>\n",
       "      <td>453.804624</td>\n",
       "      <td>446.308023</td>\n",
       "      <td>1.534483e+07</td>\n",
       "    </tr>\n",
       "    <tr>\n",
       "      <th>2017-12-31</th>\n",
       "      <td>342.128954</td>\n",
       "      <td>345.135509</td>\n",
       "      <td>342.950485</td>\n",
       "      <td>345.084810</td>\n",
       "      <td>1.608712e+07</td>\n",
       "    </tr>\n",
       "  </tbody>\n",
       "</table>\n",
       "</div>"
      ],
      "text/plain": [
       "                  Open        High         Low       Close        Volume\n",
       "2013-12-31  224.768318  225.054299  228.432674  227.439215  1.190646e+07\n",
       "2014-12-31  299.746665  301.053491  298.040009  301.606118  1.663930e+07\n",
       "2015-12-31  606.639972  599.542285  616.708804  605.856051  1.675109e+07\n",
       "2016-12-31  447.139353  441.396992  453.804624  446.308023  1.534483e+07\n",
       "2017-12-31  342.128954  345.135509  342.950485  345.084810  1.608712e+07"
      ]
     },
     "execution_count": 21,
     "metadata": {},
     "output_type": "execute_result"
    }
   ],
   "source": [
    "TWII_data.groupby(pandas.TimeGrouper(freq=\"A\")).std().iloc[-5:]"
   ]
  },
  {
   "cell_type": "code",
   "execution_count": 22,
   "metadata": {},
   "outputs": [
    {
     "data": {
      "text/html": [
       "<div>\n",
       "<table border=\"1\" class=\"dataframe\">\n",
       "  <thead>\n",
       "    <tr style=\"text-align: right;\">\n",
       "      <th></th>\n",
       "      <th>Open</th>\n",
       "      <th>High</th>\n",
       "      <th>Low</th>\n",
       "      <th>Close</th>\n",
       "      <th>Volume</th>\n",
       "    </tr>\n",
       "  </thead>\n",
       "  <tbody>\n",
       "    <tr>\n",
       "      <th>2009-12-31</th>\n",
       "      <td>1434.477080</td>\n",
       "      <td>1430.039307</td>\n",
       "      <td>1425.131935</td>\n",
       "      <td>1423.952895</td>\n",
       "      <td>4.354198e+07</td>\n",
       "    </tr>\n",
       "    <tr>\n",
       "      <th>2011-12-31</th>\n",
       "      <td>621.192274</td>\n",
       "      <td>617.410853</td>\n",
       "      <td>626.564591</td>\n",
       "      <td>623.072906</td>\n",
       "      <td>2.616283e+07</td>\n",
       "    </tr>\n",
       "    <tr>\n",
       "      <th>2013-12-31</th>\n",
       "      <td>407.151783</td>\n",
       "      <td>404.750903</td>\n",
       "      <td>409.358766</td>\n",
       "      <td>406.282011</td>\n",
       "      <td>2.028352e+07</td>\n",
       "    </tr>\n",
       "    <tr>\n",
       "      <th>2015-12-31</th>\n",
       "      <td>476.743075</td>\n",
       "      <td>472.549765</td>\n",
       "      <td>482.836720</td>\n",
       "      <td>476.907366</td>\n",
       "      <td>1.668243e+07</td>\n",
       "    </tr>\n",
       "    <tr>\n",
       "      <th>2017-12-31</th>\n",
       "      <td>696.010583</td>\n",
       "      <td>691.733901</td>\n",
       "      <td>704.079720</td>\n",
       "      <td>697.617867</td>\n",
       "      <td>1.679610e+07</td>\n",
       "    </tr>\n",
       "  </tbody>\n",
       "</table>\n",
       "</div>"
      ],
      "text/plain": [
       "                   Open         High          Low        Close        Volume\n",
       "2009-12-31  1434.477080  1430.039307  1425.131935  1423.952895  4.354198e+07\n",
       "2011-12-31   621.192274   617.410853   626.564591   623.072906  2.616283e+07\n",
       "2013-12-31   407.151783   404.750903   409.358766   406.282011  2.028352e+07\n",
       "2015-12-31   476.743075   472.549765   482.836720   476.907366  1.668243e+07\n",
       "2017-12-31   696.010583   691.733901   704.079720   697.617867  1.679610e+07"
      ]
     },
     "execution_count": 22,
     "metadata": {},
     "output_type": "execute_result"
    }
   ],
   "source": [
    "TWII_data.groupby(pandas.TimeGrouper(freq=\"2A\")).std().iloc[-5:]"
   ]
  },
  {
   "cell_type": "code",
   "execution_count": 23,
   "metadata": {},
   "outputs": [
    {
     "name": "stdout",
     "output_type": "stream",
     "text": [
      "Help on package pandas:\n",
      "\n",
      "NAME\n",
      "    pandas\n",
      "\n",
      "FILE\n",
      "    /Library/Frameworks/Python.framework/Versions/2.7/lib/python2.7/site-packages/pandas/__init__.py\n",
      "\n",
      "DESCRIPTION\n",
      "    pandas - a powerful data analysis and manipulation library for Python\n",
      "    =====================================================================\n",
      "    \n",
      "    See http://pandas.pydata.org/ for full documentation. Otherwise, see the\n",
      "    docstrings of the various objects in the pandas namespace:\n",
      "    \n",
      "    Series\n",
      "    DataFrame\n",
      "    Panel\n",
      "    Index\n",
      "    DatetimeIndex\n",
      "    HDFStore\n",
      "    bdate_range\n",
      "    date_range\n",
      "    read_csv\n",
      "    read_fwf\n",
      "    read_table\n",
      "    ols\n",
      "\n",
      "PACKAGE CONTENTS\n",
      "    _period\n",
      "    _sparse\n",
      "    _testing\n",
      "    _version\n",
      "    algos\n",
      "    compat (package)\n",
      "    computation (package)\n",
      "    core (package)\n",
      "    formats (package)\n",
      "    hashtable\n",
      "    index\n",
      "    indexes (package)\n",
      "    info\n",
      "    io (package)\n",
      "    json\n",
      "    lib\n",
      "    msgpack (package)\n",
      "    parser\n",
      "    rpy (package)\n",
      "    sandbox (package)\n",
      "    sparse (package)\n",
      "    stats (package)\n",
      "    tests (package)\n",
      "    tools (package)\n",
      "    tseries (package)\n",
      "    tslib\n",
      "    types (package)\n",
      "    util (package)\n",
      "\n",
      "SUBMODULES\n",
      "    datetools\n",
      "    offsets\n",
      "\n",
      "DATA\n",
      "    IndexSlice = <pandas.core.indexing._IndexSlice object>\n",
      "    NaT = NaT\n",
      "    __docformat__ = 'restructuredtext'\n",
      "    __version__ = u'0.18.1'\n",
      "    __warningregistry__ = {('numpy.dtype size changed, may indicate binary...\n",
      "    dependency = 'dateutil'\n",
      "    describe_option = <pandas.core.config.CallableDynamicDoc object>\n",
      "    get_option = <pandas.core.config.CallableDynamicDoc object>\n",
      "    hard_dependencies = ('numpy', 'pytz', 'dateutil')\n",
      "    missing_dependencies = []\n",
      "    options = <pandas.core.config.DictWrapper object>\n",
      "    plot_params = {'xaxis.compat': False}\n",
      "    reset_option = <pandas.core.config.CallableDynamicDoc object>\n",
      "    set_option = <pandas.core.config.CallableDynamicDoc object>\n",
      "\n",
      "VERSION\n",
      "    0.18.1\n",
      "\n",
      "\n"
     ]
    }
   ],
   "source": [
    "help(pandas)"
   ]
  },
  {
   "cell_type": "code",
   "execution_count": null,
   "metadata": {
    "collapsed": true
   },
   "outputs": [],
   "source": []
  }
 ],
 "metadata": {
  "kernelspec": {
   "display_name": "Python 2",
   "language": "python",
   "name": "python2"
  },
  "language_info": {
   "codemirror_mode": {
    "name": "ipython",
    "version": 2
   },
   "file_extension": ".py",
   "mimetype": "text/x-python",
   "name": "python",
   "nbconvert_exporter": "python",
   "pygments_lexer": "ipython2",
   "version": "2.7.13"
  }
 },
 "nbformat": 4,
 "nbformat_minor": 1
}
