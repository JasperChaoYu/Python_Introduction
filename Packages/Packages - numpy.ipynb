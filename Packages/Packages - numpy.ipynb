{
 "cells": [
  {
   "cell_type": "markdown",
   "metadata": {},
   "source": [
    "# Python Packages - numpy"
   ]
  },
  {
   "cell_type": "code",
   "execution_count": null,
   "metadata": {
    "collapsed": true
   },
   "outputs": [],
   "source": [
    "from IPython.display import display\n",
    "from matplotlib import pyplot as plt"
   ]
  },
  {
   "cell_type": "markdown",
   "metadata": {},
   "source": [
    "## numpy 是在 Python 中強大的科學運算模組。"
   ]
  },
  {
   "cell_type": "code",
   "execution_count": null,
   "metadata": {
    "collapsed": true
   },
   "outputs": [],
   "source": [
    "import numpy"
   ]
  },
  {
   "cell_type": "markdown",
   "metadata": {
    "collapsed": true
   },
   "source": [
    "### 其下包括了簡單的數值、陣列（array）及矩陣（matrix）運算外，也有多項式（polynomial）、三角函數、隨機亂數及複數，甚至還包括了快速傅立葉（FFT）的相關 function。"
   ]
  },
  {
   "cell_type": "markdown",
   "metadata": {},
   "source": [
    "#### - 簡單的數值計算包括了加減乘除（不過通常直接用符號計算就好），還有絕對值、exponential、log等等。"
   ]
  },
  {
   "cell_type": "code",
   "execution_count": null,
   "metadata": {},
   "outputs": [],
   "source": [
    "X = -1\n",
    "Y = 2\n",
    "print(\"X\")\n",
    "print(X)\n",
    "print(\"-----------------------------------------\")\n",
    "print(\"Y\")\n",
    "print(Y)\n",
    "print(\"-----------------------------------------\")\n",
    "print(\"abs(X)\")\n",
    "print(numpy.abs(X))\n",
    "print(\"-----------------------------------------\")\n",
    "print(\"exp(X)\")\n",
    "print(numpy.exp(X))\n",
    "print(\"-----------------------------------------\")\n",
    "print(\"exp2(X) = 2**X\")\n",
    "print(numpy.exp2(X))\n",
    "print(\"-----------------------------------------\")\n",
    "print(\"log(Y)\")\n",
    "print(numpy.log(Y))\n",
    "print(\"-----------------------------------------\")\n",
    "print(\"log10(Y)\")\n",
    "print(numpy.log10(Y))\n",
    "print(\"-----------------------------------------\")\n",
    "print(\"log10(10)\")\n",
    "print(numpy.log10(10))\n",
    "\n",
    "\n",
    "\n",
    "numpy.power\n",
    "numpy.sqrt"
   ]
  },
  {
   "cell_type": "markdown",
   "metadata": {},
   "source": [
    "#### - numpy 中的陣列運算"
   ]
  },
  {
   "cell_type": "code",
   "execution_count": 4,
   "metadata": {},
   "outputs": [],
   "source": [
    "numpy.asarray\n",
    "\n",
    "numpy.linspace\n",
    "numpy.mean\n",
    "numpy.std\n",
    "numpy.cov\n",
    "numpy.corrcoef\n",
    "\n",
    "numpy.isnan\n",
    "numpy.nan_to_num\n",
    "numpy.nan\n",
    "\n",
    "print(\"zeros(4)\")\n",
    "display(numpy.zeros(4))\n",
    "\n",
    "print(\"ones(4)\")\n",
    "display(numpy.ones(4))"
   ]
  },
  {
   "cell_type": "code",
   "execution_count": 5,
   "metadata": {},
   "outputs": [
    {
     "name": "stdout",
     "output_type": "stream",
     "text": [
      "zeros((4,4))\n",
      "[[ 0.  0.  0.  0.]\n",
      " [ 0.  0.  0.  0.]\n",
      " [ 0.  0.  0.  0.]\n",
      " [ 0.  0.  0.  0.]]\n"
     ]
    },
    {
     "data": {
      "text/plain": [
       "array([[ 0.,  0.,  0.,  0.],\n",
       "       [ 0.,  0.,  0.,  0.],\n",
       "       [ 0.,  0.,  0.,  0.],\n",
       "       [ 0.,  0.,  0.,  0.]])"
      ]
     },
     "metadata": {},
     "output_type": "display_data"
    },
    {
     "name": "stdout",
     "output_type": "stream",
     "text": [
      "<type 'numpy.ndarray'>\n",
      "-----------------------------------------\n",
      "ones((4,4))\n",
      "[[ 1.  1.  1.  1.]\n",
      " [ 1.  1.  1.  1.]\n",
      " [ 1.  1.  1.  1.]\n",
      " [ 1.  1.  1.  1.]]\n"
     ]
    },
    {
     "data": {
      "text/plain": [
       "array([[ 0.,  0.,  0.,  0.],\n",
       "       [ 0.,  0.,  0.,  0.],\n",
       "       [ 0.,  0.,  0.,  0.],\n",
       "       [ 0.,  0.,  0.,  0.]])"
      ]
     },
     "metadata": {},
     "output_type": "display_data"
    },
    {
     "name": "stdout",
     "output_type": "stream",
     "text": [
      "<type 'numpy.ndarray'>\n",
      "-----------------------------------------\n",
      "eye(4)\n",
      "[[ 1.  0.  0.  0.]\n",
      " [ 0.  1.  0.  0.]\n",
      " [ 0.  0.  1.  0.]\n",
      " [ 0.  0.  0.  1.]]\n"
     ]
    },
    {
     "data": {
      "text/plain": [
       "array([[ 1.,  0.,  0.,  0.],\n",
       "       [ 0.,  1.,  0.,  0.],\n",
       "       [ 0.,  0.,  1.,  0.],\n",
       "       [ 0.,  0.,  0.,  1.]])"
      ]
     },
     "metadata": {},
     "output_type": "display_data"
    },
    {
     "name": "stdout",
     "output_type": "stream",
     "text": [
      "<type 'numpy.ndarray'>\n"
     ]
    }
   ],
   "source": [
    "print(\"zeros((4,4))\")\n",
    "print(numpy.zeros((4,4)))\n",
    "display(numpy.zeros((4,4)))\n",
    "print(type(numpy.zeros((4,4))))\n",
    "print(\"-----------------------------------------\")\n",
    "print(\"ones((4,4))\")\n",
    "print(numpy.ones((4,4)))\n",
    "display(numpy.zeros((4,4)))\n",
    "print(type(numpy.ones((4,4))))\n",
    "print(\"-----------------------------------------\")\n",
    "print(\"eye(4)\")\n",
    "print(numpy.eye(4))\n",
    "display(numpy.eye(4))\n",
    "print(type(numpy.eye(4)))"
   ]
  },
  {
   "cell_type": "markdown",
   "metadata": {},
   "source": [
    "#### - numpy 中的矩陣運算"
   ]
  },
  {
   "cell_type": "code",
   "execution_count": 6,
   "metadata": {},
   "outputs": [
    {
     "name": "stdout",
     "output_type": "stream",
     "text": [
      "zero_4_matrix\n",
      "[[ 0.  0.  0.  0.]\n",
      " [ 0.  0.  0.  0.]\n",
      " [ 0.  0.  0.  0.]\n",
      " [ 0.  0.  0.  0.]]\n"
     ]
    },
    {
     "data": {
      "text/plain": [
       "matrix([[ 0.,  0.,  0.,  0.],\n",
       "        [ 0.,  0.,  0.,  0.],\n",
       "        [ 0.,  0.,  0.,  0.],\n",
       "        [ 0.,  0.,  0.,  0.]])"
      ]
     },
     "metadata": {},
     "output_type": "display_data"
    },
    {
     "name": "stdout",
     "output_type": "stream",
     "text": [
      "<class 'numpy.matrixlib.defmatrix.matrix'>\n"
     ]
    }
   ],
   "source": [
    "zero_4 = numpy.zeros((4,4))\n",
    "zero_4_matrix = numpy.asmatrix(zero_4)\n",
    "print(\"zero_4_matrix\")\n",
    "print(zero_4_matrix)\n",
    "display(zero_4_matrix)\n",
    "print(type(zero_4_matrix))"
   ]
  },
  {
   "cell_type": "code",
   "execution_count": 7,
   "metadata": {},
   "outputs": [
    {
     "data": {
      "text/plain": [
       "array([1, 5, 9])"
      ]
     },
     "execution_count": 7,
     "metadata": {},
     "output_type": "execute_result"
    }
   ],
   "source": [
    "numpy.diagonal([[1,2,3],[4,5,6],[7,8,9]])"
   ]
  },
  {
   "cell_type": "code",
   "execution_count": 8,
   "metadata": {},
   "outputs": [
    {
     "name": "stdout",
     "output_type": "stream",
     "text": [
      "one_4_matrix\n",
      "[[ 1.  1.  1.  1.]\n",
      " [ 1.  1.  1.  1.]\n",
      " [ 1.  1.  1.  1.]\n",
      " [ 1.  1.  1.  1.]]\n"
     ]
    },
    {
     "data": {
      "text/plain": [
       "matrix([[ 1.,  1.,  1.,  1.],\n",
       "        [ 1.,  1.,  1.,  1.],\n",
       "        [ 1.,  1.,  1.,  1.],\n",
       "        [ 1.,  1.,  1.,  1.]])"
      ]
     },
     "metadata": {},
     "output_type": "display_data"
    },
    {
     "name": "stdout",
     "output_type": "stream",
     "text": [
      "<class 'numpy.matrixlib.defmatrix.matrix'>\n",
      "-----------------------------------------\n",
      "diagonal(one_4)\n",
      "[ 1.  1.  1.  1.]\n",
      "<type 'numpy.ndarray'>\n",
      "-----------------------------------------\n",
      "diagonal(one_4_matrix)\n",
      "[ 1.  1.  1.  1.]\n",
      "<type 'numpy.ndarray'>\n"
     ]
    }
   ],
   "source": [
    "one_4 = numpy.ones((4,4))\n",
    "one_4_matrix = numpy.asmatrix(one_4)\n",
    "print(\"one_4_matrix\")\n",
    "print(one_4_matrix)\n",
    "display(one_4_matrix)\n",
    "print(type(one_4_matrix))\n",
    "print(\"-----------------------------------------\")\n",
    "print(\"diagonal(one_4)\")\n",
    "print(numpy.diagonal(one_4))\n",
    "print(type(numpy.diagonal(one_4)))\n",
    "print(\"-----------------------------------------\")\n",
    "print(\"diagonal(one_4_matrix)\")\n",
    "print(numpy.diagonal(one_4_matrix))\n",
    "print(type(numpy.diagonal(one_4_matrix)))"
   ]
  },
  {
   "cell_type": "code",
   "execution_count": 9,
   "metadata": {},
   "outputs": [
    {
     "data": {
      "text/plain": [
       "array([[1, 2, 3, 4],\n",
       "       [5, 6, 7, 8]])"
      ]
     },
     "execution_count": 9,
     "metadata": {},
     "output_type": "execute_result"
    }
   ],
   "source": [
    "x = [1,2,3,4]\n",
    "y = [5,6,7,8]\n",
    "numpy.vstack((x,y)) # (vertical stack) Input: tuple"
   ]
  },
  {
   "cell_type": "markdown",
   "metadata": {},
   "source": [
    "#### - 線性代數中的相關運算"
   ]
  },
  {
   "cell_type": "code",
   "execution_count": 10,
   "metadata": {},
   "outputs": [
    {
     "data": {
      "text/plain": [
       "matrix([[ 2, -1,  0],\n",
       "        [-1,  2, -1],\n",
       "        [ 0, -1,  2]])"
      ]
     },
     "metadata": {},
     "output_type": "display_data"
    },
    {
     "name": "stdout",
     "output_type": "stream",
     "text": [
      "-----------------------------------------\n",
      "Cholesky\n"
     ]
    },
    {
     "data": {
      "text/plain": [
       "matrix([[ 1.41421356,  0.        ,  0.        ],\n",
       "        [-0.70710678,  1.22474487,  0.        ],\n",
       "        [ 0.        , -0.81649658,  1.15470054]])"
      ]
     },
     "metadata": {},
     "output_type": "display_data"
    },
    {
     "data": {
      "text/plain": [
       "matrix([[ 2., -1.,  0.],\n",
       "        [-1.,  2., -1.],\n",
       "        [ 0., -1.,  2.]])"
      ]
     },
     "metadata": {},
     "output_type": "display_data"
    }
   ],
   "source": [
    "A = numpy.asmatrix([[2,-1,0],[-1,2,-1],[0,-1,2]])\n",
    "display(A)\n",
    "print(\"-----------------------------------------\")\n",
    "print(\"Cholesky\")\n",
    "cholesky_decomposition = numpy.linalg.cholesky(A)\n",
    "display(cholesky_decomposition)\n",
    "display(cholesky_decomposition*cholesky_decomposition.T)"
   ]
  },
  {
   "cell_type": "code",
   "execution_count": 11,
   "metadata": {},
   "outputs": [
    {
     "data": {
      "text/plain": [
       "matrix([[ 2, -1,  0],\n",
       "        [-1,  2, -1],\n",
       "        [ 0, -1,  2]])"
      ]
     },
     "metadata": {},
     "output_type": "display_data"
    },
    {
     "name": "stdout",
     "output_type": "stream",
     "text": [
      "-----------------------------------------\n",
      "Determinent\n"
     ]
    },
    {
     "data": {
      "text/plain": [
       "4.0"
      ]
     },
     "metadata": {},
     "output_type": "display_data"
    },
    {
     "name": "stdout",
     "output_type": "stream",
     "text": [
      "-----------------------------------------\n",
      "rank\n"
     ]
    },
    {
     "data": {
      "text/plain": [
       "3"
      ]
     },
     "metadata": {},
     "output_type": "display_data"
    },
    {
     "name": "stdout",
     "output_type": "stream",
     "text": [
      "-----------------------------------------\n",
      "norm\n"
     ]
    },
    {
     "data": {
      "text/plain": [
       "4.0"
      ]
     },
     "metadata": {},
     "output_type": "display_data"
    }
   ],
   "source": [
    "A = numpy.asmatrix([[2,-1,0],[-1,2,-1],[0,-1,2]])\n",
    "display(A)\n",
    "print(\"-----------------------------------------\")\n",
    "print(\"Determinent\")\n",
    "display(numpy.linalg.det(A))\n",
    "print(\"-----------------------------------------\")\n",
    "print(\"rank\")\n",
    "display(numpy.linalg.matrix_rank(A))\n",
    "print(\"-----------------------------------------\")\n",
    "print(\"norm\")\n",
    "display(numpy.linalg.norm(A))"
   ]
  },
  {
   "cell_type": "code",
   "execution_count": 12,
   "metadata": {},
   "outputs": [
    {
     "data": {
      "text/plain": [
       "matrix([[ 2, -1,  0],\n",
       "        [-1,  2, -1],\n",
       "        [ 0, -1,  2]])"
      ]
     },
     "metadata": {},
     "output_type": "display_data"
    },
    {
     "name": "stdout",
     "output_type": "stream",
     "text": [
      "-----------------------------------------\n",
      "Inverse\n"
     ]
    },
    {
     "data": {
      "text/plain": [
       "matrix([[ 0.75,  0.5 ,  0.25],\n",
       "        [ 0.5 ,  1.  ,  0.5 ],\n",
       "        [ 0.25,  0.5 ,  0.75]])"
      ]
     },
     "metadata": {},
     "output_type": "display_data"
    },
    {
     "name": "stdout",
     "output_type": "stream",
     "text": [
      "-----------------------------------------\n",
      "Eigenvalue and Eigenvector\n"
     ]
    },
    {
     "data": {
      "text/plain": [
       "(array([ 3.41421356,  2.        ,  0.58578644]),\n",
       " matrix([[ -5.00000000e-01,  -7.07106781e-01,   5.00000000e-01],\n",
       "         [  7.07106781e-01,   4.05925293e-16,   7.07106781e-01],\n",
       "         [ -5.00000000e-01,   7.07106781e-01,   5.00000000e-01]]))"
      ]
     },
     "metadata": {},
     "output_type": "display_data"
    },
    {
     "name": "stdout",
     "output_type": "stream",
     "text": [
      "-----------------------------------------\n",
      "Eigenvalue\n"
     ]
    },
    {
     "data": {
      "text/plain": [
       "array([ 3.41421356,  2.        ,  0.58578644])"
      ]
     },
     "metadata": {},
     "output_type": "display_data"
    }
   ],
   "source": [
    "A = numpy.asmatrix([[2,-1,0],[-1,2,-1],[0,-1,2]])\n",
    "display(A)\n",
    "print(\"-----------------------------------------\")\n",
    "print(\"Inverse\")\n",
    "display(numpy.linalg.inv(A))\n",
    "print(\"-----------------------------------------\")\n",
    "print(\"Eigenvalue and Eigenvector\")\n",
    "display(numpy.linalg.eig(A))\n",
    "print(\"-----------------------------------------\")\n",
    "print(\"Eigenvalue\")\n",
    "display(numpy.linalg.eigvals(A))"
   ]
  },
  {
   "cell_type": "code",
   "execution_count": 13,
   "metadata": {},
   "outputs": [
    {
     "data": {
      "text/plain": [
       "matrix([[ 2, -1,  0],\n",
       "        [-1,  2, -1],\n",
       "        [ 0, -1,  2]])"
      ]
     },
     "metadata": {},
     "output_type": "display_data"
    },
    {
     "name": "stdout",
     "output_type": "stream",
     "text": [
      "-----------------------------------------\n",
      "power(A,3)\n"
     ]
    },
    {
     "data": {
      "text/plain": [
       "matrix([[ 14, -14,   6],\n",
       "        [-14,  20, -14],\n",
       "        [  6, -14,  14]])"
      ]
     },
     "metadata": {},
     "output_type": "display_data"
    },
    {
     "name": "stdout",
     "output_type": "stream",
     "text": [
      "-----------------------------------------\n",
      "A*A*A\n"
     ]
    },
    {
     "data": {
      "text/plain": [
       "matrix([[ 14, -14,   6],\n",
       "        [-14,  20, -14],\n",
       "        [  6, -14,  14]])"
      ]
     },
     "metadata": {},
     "output_type": "display_data"
    },
    {
     "name": "stdout",
     "output_type": "stream",
     "text": [
      "-----------------------------------------\n",
      "numpy.dot(A,A)\n"
     ]
    },
    {
     "data": {
      "text/plain": [
       "matrix([[ 5, -4,  1],\n",
       "        [-4,  6, -4],\n",
       "        [ 1, -4,  5]])"
      ]
     },
     "metadata": {},
     "output_type": "display_data"
    }
   ],
   "source": [
    "A = numpy.asmatrix([[2,-1,0],[-1,2,-1],[0,-1,2]])\n",
    "display(A)\n",
    "print(\"-----------------------------------------\")\n",
    "print(\"power(A,3)\")\n",
    "display(numpy.linalg.matrix_power(A,3))\n",
    "print(\"-----------------------------------------\")\n",
    "print(\"A*A*A\")\n",
    "display(A*A*A)\n",
    "print(\"-----------------------------------------\")\n",
    "print(\"numpy.dot(A,A)\")\n",
    "display(numpy.dot(A,A))"
   ]
  },
  {
   "cell_type": "markdown",
   "metadata": {},
   "source": [
    "#### - numpy 中的多項式運算"
   ]
  },
  {
   "cell_type": "code",
   "execution_count": 14,
   "metadata": {},
   "outputs": [
    {
     "data": {
      "text/plain": [
       "array([  1.,  -9.,  26., -24.])"
      ]
     },
     "execution_count": 14,
     "metadata": {},
     "output_type": "execute_result"
    }
   ],
   "source": [
    "numpy.poly([2,3,4])"
   ]
  },
  {
   "cell_type": "code",
   "execution_count": 15,
   "metadata": {},
   "outputs": [
    {
     "name": "stdout",
     "output_type": "stream",
     "text": [
      "The polynomial with root 3 and 2 is:\n",
      "   2\n",
      "1 x - 5 x + 6\n",
      "-----------------------------------------\n",
      "poly(5)\n",
      "6.0\n",
      "-----------------------------------------\n",
      "The square of the polynomial\n",
      "   4      3      2\n",
      "1 x - 10 x + 37 x - 60 x + 36\n"
     ]
    }
   ],
   "source": [
    "poly = numpy.poly1d([3,2], r=True)\n",
    "print(\"The polynomial with root 3 and 2 is:\")\n",
    "print(poly)\n",
    "print(\"-----------------------------------------\")\n",
    "print(\"poly(5)\")\n",
    "print(poly(5))\n",
    "print(\"-----------------------------------------\")\n",
    "print(\"The square of the polynomial\")\n",
    "print(poly**2)"
   ]
  },
  {
   "cell_type": "code",
   "execution_count": 16,
   "metadata": {},
   "outputs": [
    {
     "name": "stdout",
     "output_type": "stream",
     "text": [
      "The polynomial is:\n",
      " \n",
      "3 x + 2\n",
      "-----------------------------------------\n",
      "the coefficients are:\n",
      "[3 2]\n",
      "-----------------------------------------\n",
      "the order of polynomial is:\n",
      "1\n",
      "-----------------------------------------\n",
      "the root is:\n",
      "[-0.66666667]\n"
     ]
    }
   ],
   "source": [
    "poly = numpy.poly1d([3,2], r=False)\n",
    "print(\"The polynomial is:\")\n",
    "print(poly)\n",
    "print(\"-----------------------------------------\")\n",
    "print(\"the coefficients are:\")\n",
    "print(poly.c)\n",
    "print(\"-----------------------------------------\")\n",
    "print(\"the order of polynomial is:\")\n",
    "print(poly.order)\n",
    "print(\"-----------------------------------------\")\n",
    "print(\"the root is:\")\n",
    "print(poly.r)"
   ]
  },
  {
   "cell_type": "code",
   "execution_count": 17,
   "metadata": {},
   "outputs": [
    {
     "name": "stdout",
     "output_type": "stream",
     "text": [
      "The polynomial is:\n",
      " \n",
      "3 x + 2\n",
      "-----------------------------------------\n",
      "The integration of the polynomial is:\n",
      "     2\n",
      "1.5 x + 2 x\n",
      "-----------------------------------------\n",
      "The derivative of the polynomial is:\n",
      " \n",
      "3\n"
     ]
    }
   ],
   "source": [
    "poly = numpy.poly1d([3,2], r=False)\n",
    "print(\"The polynomial is:\")\n",
    "print(poly)\n",
    "print(\"-----------------------------------------\")\n",
    "print(\"The integration of the polynomial is:\")\n",
    "print(numpy.polyint(poly))\n",
    "print(\"-----------------------------------------\")\n",
    "print(\"The derivative of the polynomial is:\")\n",
    "print(numpy.polyder(poly))"
   ]
  },
  {
   "cell_type": "code",
   "execution_count": 18,
   "metadata": {},
   "outputs": [
    {
     "name": "stdout",
     "output_type": "stream",
     "text": [
      " \n",
      "1 x + 1.026e-15\n"
     ]
    }
   ],
   "source": [
    "coefficient = numpy.polyfit([1,2,3],[1,2,3],deg=1)\n",
    "fitted_poly = numpy.poly1d(coefficient, r=False)\n",
    "print(fitted_poly)"
   ]
  },
  {
   "cell_type": "markdown",
   "metadata": {},
   "source": [
    "#### - numpy 中的三角函數"
   ]
  },
  {
   "cell_type": "code",
   "execution_count": 19,
   "metadata": {},
   "outputs": [
    {
     "name": "stdout",
     "output_type": "stream",
     "text": [
      "0.707106781187\n",
      "0.707106781187\n",
      "1.0\n",
      "0.667457216028\n",
      "0.903339110767\n",
      "0.665773750028\n"
     ]
    }
   ],
   "source": [
    "import math\n",
    "x = 0.25*math.pi\n",
    "print(numpy.cos(x))\n",
    "print(numpy.sin(x))\n",
    "print(numpy.tan(x))\n",
    "print(numpy.arccos(x))\n",
    "print(numpy.arcsin(x))\n",
    "print(numpy.arctan(x))"
   ]
  },
  {
   "cell_type": "markdown",
   "metadata": {},
   "source": [
    "#### - numpy 中的 random 子模組可以幫助我們產生各種機率分布的隨機亂數。"
   ]
  },
  {
   "cell_type": "code",
   "execution_count": 20,
   "metadata": {},
   "outputs": [
    {
     "data": {
      "image/png": "[encoded data removed]",
      "text/plain": [
       "<matplotlib.figure.Figure at 0x1057dee50>"
      ]
     },
     "metadata": {},
     "output_type": "display_data"
    }
   ],
   "source": [
    "uniform_rand = numpy.random.uniform(low=0, high=1, size=10000)\n",
    "plt.hist(uniform_rand)\n",
    "plt.show()\n",
    "# numpy.random.poisson(lam=10, size=10000)\n",
    "# numpy.random.random_sample(size=10000)\n",
    "# numpy.random.randint(low=1, high=10, size=10000)"
   ]
  },
  {
   "cell_type": "code",
   "execution_count": 21,
   "metadata": {},
   "outputs": [
    {
     "data": {
      "image/png": "[encoded data removed]",
      "text/plain": [
       "<matplotlib.figure.Figure at 0x105a30e50>"
      ]
     },
     "metadata": {},
     "output_type": "display_data"
    }
   ],
   "source": [
    "binomial_rand = numpy.random.binomial(n=3, p=0.5, size=10000)\n",
    "plt.hist(binomial_rand)\n",
    "plt.show()\n",
    "# numpy.random.geometric(p=0.5, size=10000)\n",
    "# numpy.random.negative_binomial(n=3, p=0.5, size=10000)\n",
    "# numpy.random.hypergeometric(ngood=10, nbad=5, nsample=5, size=10000)"
   ]
  },
  {
   "cell_type": "code",
   "execution_count": 22,
   "metadata": {},
   "outputs": [
    {
     "data": {
      "image/png": "[encoded data removed]",
      "text/plain": [
       "<matplotlib.figure.Figure at 0x105cbbb10>"
      ]
     },
     "metadata": {},
     "output_type": "display_data"
    }
   ],
   "source": [
    "normal_rand = numpy.random.normal(loc=0., scale=1., size=10000)\n",
    "plt.hist(normal_rand)\n",
    "plt.show()\n",
    "# numpy.random.lognormal(mean=0., sigma=1., size=10000)\n",
    "# numpy.random.standard_normal(size=10000)\n",
    "# numpy.random.chisquare(df=10, size=10000)\n",
    "# numpy.random.standard_t(df=5, size=10000)\n",
    "# numpy.random.laplace(loc=0., scale=1., size=10000)\n",
    "# numpy.random.logistic(loc=0., scale=1., size=10000)"
   ]
  },
  {
   "cell_type": "code",
   "execution_count": 23,
   "metadata": {},
   "outputs": [
    {
     "data": {
      "image/png": "[encoded data removed]",
      "text/plain": [
       "<matplotlib.figure.Figure at 0x105add250>"
      ]
     },
     "metadata": {},
     "output_type": "display_data"
    }
   ],
   "source": [
    "multi_normal_random = numpy.random.multivariate_normal(mean=[1,1],cov=[[1,0],[0,1]], size=10000)\n",
    "plt.hist(multi_normal_random)\n",
    "plt.show()"
   ]
  },
  {
   "cell_type": "code",
   "execution_count": 24,
   "metadata": {},
   "outputs": [
    {
     "data": {
      "image/png": "[encoded data removed]",
      "text/plain": [
       "<matplotlib.figure.Figure at 0x105fb5190>"
      ]
     },
     "metadata": {},
     "output_type": "display_data"
    }
   ],
   "source": [
    "multinomial_rand = numpy.random.multinomial(n=3, pvals=[0.2,0.3,0.5], size=10000)\n",
    "plt.hist(multinomial_rand)\n",
    "plt.show()\n",
    "# numpy.random.dirichlet(alpha=[10,5,1], size=10000)"
   ]
  },
  {
   "cell_type": "code",
   "execution_count": 25,
   "metadata": {},
   "outputs": [
    {
     "data": {
      "image/png": "[encoded data removed]",
      "text/plain": [
       "<matplotlib.figure.Figure at 0x1062b8090>"
      ]
     },
     "metadata": {},
     "output_type": "display_data"
    }
   ],
   "source": [
    "gamma_rand = numpy.random.gamma(shape=2, scale=1, size=10000)\n",
    "plt.hist(gamma_rand)\n",
    "plt.show()\n",
    "# numpy.random.exponential(scale=2.0, size=10000)\n",
    "# numpy.random.weibull(a=10, size=10000)\n",
    "# numpy.random.f(dfnum=1, dfden=10, size=10000)\n",
    "# numpy.random.pareto(a=5, size=100000)"
   ]
  },
  {
   "cell_type": "markdown",
   "metadata": {
    "collapsed": true
   },
   "source": [
    "#### - numpy 中的複數運算"
   ]
  },
  {
   "cell_type": "code",
   "execution_count": 26,
   "metadata": {
    "collapsed": true
   },
   "outputs": [],
   "source": [
    "# numpy.angle()"
   ]
  },
  {
   "cell_type": "markdown",
   "metadata": {
    "collapsed": true
   },
   "source": [
    "#### - numpy 中的快速傅立葉"
   ]
  },
  {
   "cell_type": "code",
   "execution_count": 27,
   "metadata": {
    "collapsed": true
   },
   "outputs": [],
   "source": [
    "# numpy.fft()"
   ]
  },
  {
   "cell_type": "code",
   "execution_count": 28,
   "metadata": {},
   "outputs": [
    {
     "name": "stderr",
     "output_type": "stream",
     "text": [
      "IOPub data rate exceeded.\n",
      "The notebook server will temporarily stop sending output\n",
      "to the client in order to avoid crashing it.\n",
      "To change this limit, set the config variable\n",
      "`--NotebookApp.iopub_data_rate_limit`.\n"
     ]
    }
   ],
   "source": [
    "help(numpy)"
   ]
  },
  {
   "cell_type": "code",
   "execution_count": null,
   "metadata": {
    "collapsed": true
   },
   "outputs": [],
   "source": []
  }
 ],
 "metadata": {
  "kernelspec": {
   "display_name": "Python 2",
   "language": "python",
   "name": "python2"
  },
  "language_info": {
   "codemirror_mode": {
    "name": "ipython",
    "version": 2
   },
   "file_extension": ".py",
   "mimetype": "text/x-python",
   "name": "python",
   "nbconvert_exporter": "python",
   "pygments_lexer": "ipython2",
   "version": "2.7.13"
  }
 },
 "nbformat": 4,
 "nbformat_minor": 1
}
