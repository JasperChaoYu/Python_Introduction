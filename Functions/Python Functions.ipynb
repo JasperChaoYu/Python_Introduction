{
 "cells": [
  {
   "cell_type": "markdown",
   "metadata": {
    "collapsed": true
   },
   "source": [
    "# Python Functions"
   ]
  },
  {
   "cell_type": "markdown",
   "metadata": {},
   "source": [
    "### Python 中要建立自己函式時，有兩種方式：\n",
    "### - 如果簡單的函式，或許可以用「function handle」的方式建立\n",
    "### - 如果複雜的函式，就用 def 的方式建立"
   ]
  },
  {
   "cell_type": "code",
   "execution_count": 1,
   "metadata": {},
   "outputs": [
    {
     "data": {
      "text/plain": [
       "3"
      ]
     },
     "execution_count": 1,
     "metadata": {},
     "output_type": "execute_result"
    }
   ],
   "source": [
    "add_fun = lambda a, b: a+b\n",
    "add_fun(1,2)"
   ]
  },
  {
   "cell_type": "code",
   "execution_count": 2,
   "metadata": {},
   "outputs": [
    {
     "data": {
      "text/plain": [
       "3"
      ]
     },
     "execution_count": 2,
     "metadata": {},
     "output_type": "execute_result"
    }
   ],
   "source": [
    "def add_fun(a,b): \n",
    "    c=a+b\n",
    "    return c \n",
    "add_fun(1,2)"
   ]
  },
  {
   "cell_type": "code",
   "execution_count": 3,
   "metadata": {},
   "outputs": [
    {
     "data": {
      "text/plain": [
       "3"
      ]
     },
     "execution_count": 3,
     "metadata": {},
     "output_type": "execute_result"
    }
   ],
   "source": [
    "def add_fun(a,b): \n",
    "    return a+b\n",
    "add_fun(1,2)"
   ]
  },
  {
   "cell_type": "markdown",
   "metadata": {},
   "source": [
    "### 以下為利用 Black-Scholes Formula 來計算選擇權理論價格的例子"
   ]
  },
  {
   "cell_type": "code",
   "execution_count": 4,
   "metadata": {
    "collapsed": true
   },
   "outputs": [],
   "source": [
    "import numpy\n",
    "from scipy.stats import norm\n",
    "from pandas import DataFrame "
   ]
  },
  {
   "cell_type": "code",
   "execution_count": 5,
   "metadata": {
    "collapsed": true
   },
   "outputs": [],
   "source": [
    "def Black_Scholes(spot, strike, maturity, vol, r_f):\n",
    "    d1 = (numpy.log(spot/strike)+(r_f-vol**2/2))/(vol*numpy.sqrt(maturity))\n",
    "    d2 = d1 - vol*numpy.sqrt(maturity)\n",
    "    N_d1 = norm.cdf(d1)\n",
    "    N_d2 = norm.cdf(d2)\n",
    "    BS_price = spot*N_d1 - strike*numpy.exp(-r_f*maturity)*N_d2\n",
    "    \n",
    "    return BS_price"
   ]
  },
  {
   "cell_type": "code",
   "execution_count": 6,
   "metadata": {},
   "outputs": [
    {
     "data": {
      "text/plain": [
       "<matplotlib.axes._subplots.AxesSubplot at 0x1080fed50>"
      ]
     },
     "execution_count": 6,
     "metadata": {},
     "output_type": "execute_result"
    },
    {
     "data": {
      "image/png": "[encoded data removed]",
      "text/plain": [
       "<matplotlib.figure.Figure at 0x107734f90>"
      ]
     },
     "metadata": {},
     "output_type": "display_data"
    }
   ],
   "source": [
    "r_f = 0.1\n",
    "maturity = 1\n",
    "spot = 5\n",
    "vol = 0.2\n",
    "strike = numpy.linspace(0.1,20,100)\n",
    "bs_price = [Black_Scholes(spot, strike[i], maturity, vol, r_f) for i in range(len(strike))]\n",
    "option = DataFrame([bs_price], columns=strike, index=[\"Call Option\"]).T\n",
    "\n",
    "% matplotlib inline\n",
    "option.plot()"
   ]
  },
  {
   "cell_type": "markdown",
   "metadata": {},
   "source": [
    "### 在自定義函式中，也可以設定參數的預設值，但是在有設定預設值的參數後，不能再擺入未設定預設值的參數。"
   ]
  },
  {
   "cell_type": "code",
   "execution_count": 7,
   "metadata": {},
   "outputs": [
    {
     "ename": "SyntaxError",
     "evalue": "non-default argument follows default argument (<ipython-input-7-1879417b7003>, line 1)",
     "output_type": "error",
     "traceback": [
      "\u001b[0;36m  File \u001b[0;32m\"<ipython-input-7-1879417b7003>\"\u001b[0;36m, line \u001b[0;32m1\u001b[0m\n\u001b[0;31m    def BS_formula( c_p=\"c\", spot, strike, maturity, vol, r_f):\u001b[0m\n\u001b[0;31mSyntaxError\u001b[0m\u001b[0;31m:\u001b[0m non-default argument follows default argument\n"
     ]
    }
   ],
   "source": [
    "def BS_formula( c_p=\"c\", spot, strike, maturity, vol, r_f):\n",
    "    d1 = (numpy.log(spot/strike)+(r_f-vol**2/2))/(vol*numpy.sqrt(maturity))\n",
    "    d2 = d1 - vol*numpy.sqrt(maturity)\n",
    "    if c_p == \"c\":\n",
    "        N_d1 = norm.cdf(d1)\n",
    "        N_d2 = norm.cdf(d2)\n",
    "        BS_price = spot*N_d1 - strike*numpy.exp(-r_f*maturity)*N_d2\n",
    "    elif c_p == \"p\":\n",
    "        N_d1 = norm.cdf(-d1)\n",
    "        N_d2 = norm.cdf(-d2)\n",
    "        BS_price = strike*numpy.exp(-r_f*maturity)*N_d2 - spot*N_d1\n",
    "    else:\n",
    "        BS_price = numpy.nan\n",
    "        print(\"Error: Please set c_p as c or p!\")\n",
    "        \n",
    "    return BS_price"
   ]
  },
  {
   "cell_type": "code",
   "execution_count": 8,
   "metadata": {
    "collapsed": true
   },
   "outputs": [],
   "source": [
    "def BS_formula(spot, strike, maturity, vol, r_f, c_p=\"c\"):\n",
    "    d1 = (numpy.log(spot/strike)+(r_f-vol**2/2))/(vol*numpy.sqrt(maturity))\n",
    "    d2 = d1 - vol*numpy.sqrt(maturity)\n",
    "    if c_p == \"c\":\n",
    "        N_d1 = norm.cdf(d1)\n",
    "        N_d2 = norm.cdf(d2)\n",
    "        BS_price = spot*N_d1 - strike*numpy.exp(-r_f*maturity)*N_d2\n",
    "    elif c_p == \"p\":\n",
    "        N_d1 = norm.cdf(-d1)\n",
    "        N_d2 = norm.cdf(-d2)\n",
    "        BS_price = strike*numpy.exp(-r_f*maturity)*N_d2 - spot*N_d1\n",
    "    else:\n",
    "        BS_price = numpy.nan\n",
    "        print(\"Error: Please set c_p as c or p!\")\n",
    "        \n",
    "    return BS_price"
   ]
  },
  {
   "cell_type": "code",
   "execution_count": 9,
   "metadata": {},
   "outputs": [
    {
     "data": {
      "text/plain": [
       "<matplotlib.axes._subplots.AxesSubplot at 0x1081aa710>"
      ]
     },
     "execution_count": 9,
     "metadata": {},
     "output_type": "execute_result"
    },
    {
     "data": {
      "image/png": "[encoded data removed]",
      "text/plain": [
       "<matplotlib.figure.Figure at 0x107708410>"
      ]
     },
     "metadata": {},
     "output_type": "display_data"
    }
   ],
   "source": [
    "r_f = 0.1\n",
    "maturity = 1\n",
    "spot = 5\n",
    "vol = 0.2\n",
    "strike = numpy.linspace(0.1,20,100)\n",
    "bs_price = [BS_formula(spot, strike[i], maturity, vol, r_f, c_p=\"c\") for i in range(len(strike))]\n",
    "option = DataFrame([bs_price], columns=strike, index=[\"Call Option\"]).T\n",
    "\n",
    "% matplotlib inline\n",
    "option.plot()"
   ]
  },
  {
   "cell_type": "code",
   "execution_count": 10,
   "metadata": {},
   "outputs": [
    {
     "data": {
      "text/plain": [
       "<matplotlib.axes._subplots.AxesSubplot at 0x1076f7b50>"
      ]
     },
     "execution_count": 10,
     "metadata": {},
     "output_type": "execute_result"
    },
    {
     "data": {
      "image/png": "[encoded data removed]",
      "text/plain": [
       "<matplotlib.figure.Figure at 0x1082a1250>"
      ]
     },
     "metadata": {},
     "output_type": "display_data"
    }
   ],
   "source": [
    "r_f = 0.1\n",
    "maturity = 1\n",
    "spot = 5\n",
    "vol = 0.2\n",
    "strike = numpy.linspace(0.1,20,100)\n",
    "bs_price = [BS_formula(spot, strike[i], maturity, vol, r_f, c_p=\"p\") for i in range(len(strike))]\n",
    "option = DataFrame([bs_price], columns=strike, index=[\"Put Option\"]).T\n",
    "\n",
    "% matplotlib inline\n",
    "option.plot()"
   ]
  },
  {
   "cell_type": "code",
   "execution_count": null,
   "metadata": {
    "collapsed": true
   },
   "outputs": [],
   "source": []
  }
 ],
 "metadata": {
  "kernelspec": {
   "display_name": "Python 2",
   "language": "python",
   "name": "python2"
  },
  "language_info": {
   "codemirror_mode": {
    "name": "ipython",
    "version": 2
   },
   "file_extension": ".py",
   "mimetype": "text/x-python",
   "name": "python",
   "nbconvert_exporter": "python",
   "pygments_lexer": "ipython2",
   "version": "2.7.13"
  }
 },
 "nbformat": 4,
 "nbformat_minor": 1
}
